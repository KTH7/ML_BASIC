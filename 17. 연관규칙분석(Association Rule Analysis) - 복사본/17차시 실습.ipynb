{
 "cells": [
  {
   "cell_type": "code",
   "execution_count": 1,
   "metadata": {
    "ExecuteTime": {
     "end_time": "2022-10-19T11:01:18.255212Z",
     "start_time": "2022-10-19T11:01:18.240111Z"
    }
   },
   "outputs": [],
   "source": [
    "dataset=[['Milk','Onion','Nutmeg','Kidney Beans','Eggs','Yogurt'],['Dill','Onion','Nutmeg','Kidney Beans','Eggs','Yogurt'],['Milk','Apple','Kidney Beans','Eggs'],['Milk','Unicorn','Corn','Kidney Beans','Yogurt'],['Corn','Onion','Onion','Kidney Beans','Ice Cream','Eggs']]"
   ]
  },
  {
   "cell_type": "code",
   "execution_count": 2,
   "metadata": {
    "ExecuteTime": {
     "end_time": "2022-10-19T11:01:22.187103Z",
     "start_time": "2022-10-19T11:01:18.262498Z"
    }
   },
   "outputs": [],
   "source": [
    "import pandas as pd\n",
    "from mlxtend.preprocessing import TransactionEncoder\n",
    "from mlxtend.frequent_patterns import apriori\n",
    "from mlxtend.frequent_patterns import association_rules\n",
    "\n",
    "oht=TransactionEncoder()"
   ]
  },
  {
   "cell_type": "code",
   "execution_count": 3,
   "metadata": {
    "ExecuteTime": {
     "end_time": "2022-10-19T11:01:22.234475Z",
     "start_time": "2022-10-19T11:01:22.193103Z"
    }
   },
   "outputs": [
    {
     "data": {
      "text/plain": [
       "[['Milk', 'Onion', 'Nutmeg', 'Kidney Beans', 'Eggs', 'Yogurt'],\n",
       " ['Dill', 'Onion', 'Nutmeg', 'Kidney Beans', 'Eggs', 'Yogurt'],\n",
       " ['Milk', 'Apple', 'Kidney Beans', 'Eggs'],\n",
       " ['Milk', 'Unicorn', 'Corn', 'Kidney Beans', 'Yogurt'],\n",
       " ['Corn', 'Onion', 'Onion', 'Kidney Beans', 'Ice Cream', 'Eggs']]"
      ]
     },
     "execution_count": 3,
     "metadata": {},
     "output_type": "execute_result"
    }
   ],
   "source": [
    "dataset"
   ]
  },
  {
   "cell_type": "code",
   "execution_count": 4,
   "metadata": {
    "ExecuteTime": {
     "end_time": "2022-10-19T11:01:22.265807Z",
     "start_time": "2022-10-19T11:01:22.244466Z"
    }
   },
   "outputs": [
    {
     "data": {
      "text/plain": [
       "array([[False, False, False,  True, False,  True,  True,  True,  True,\n",
       "        False,  True],\n",
       "       [False, False,  True,  True, False,  True, False,  True,  True,\n",
       "        False,  True],\n",
       "       [ True, False, False,  True, False,  True,  True, False, False,\n",
       "        False, False],\n",
       "       [False,  True, False, False, False,  True,  True, False, False,\n",
       "         True,  True],\n",
       "       [False,  True, False,  True,  True,  True, False, False,  True,\n",
       "        False, False]])"
      ]
     },
     "execution_count": 4,
     "metadata": {},
     "output_type": "execute_result"
    }
   ],
   "source": [
    "oht_ary=oht.fit(dataset).transform(dataset)\n",
    "oht_ary"
   ]
  },
  {
   "cell_type": "code",
   "execution_count": 5,
   "metadata": {
    "ExecuteTime": {
     "end_time": "2022-10-19T11:01:22.313131Z",
     "start_time": "2022-10-19T11:01:22.271807Z"
    }
   },
   "outputs": [
    {
     "name": "stdout",
     "output_type": "stream",
     "text": [
      "   Apple   Corn   Dill   Eggs  Ice Cream  Kidney Beans   Milk  Nutmeg  Onion  \\\n",
      "0  False  False  False   True      False          True   True    True   True   \n",
      "1  False  False   True   True      False          True  False    True   True   \n",
      "2   True  False  False   True      False          True   True   False  False   \n",
      "3  False   True  False  False      False          True   True   False  False   \n",
      "4  False   True  False   True       True          True  False   False   True   \n",
      "\n",
      "   Unicorn  Yogurt  \n",
      "0    False    True  \n",
      "1    False    True  \n",
      "2    False   False  \n",
      "3     True    True  \n",
      "4    False   False  \n"
     ]
    }
   ],
   "source": [
    "df=pd.DataFrame(oht_ary,columns=oht.columns_)\n",
    "print(df)"
   ]
  },
  {
   "cell_type": "code",
   "execution_count": 6,
   "metadata": {
    "ExecuteTime": {
     "end_time": "2022-10-19T11:01:22.345085Z",
     "start_time": "2022-10-19T11:01:22.321094Z"
    }
   },
   "outputs": [
    {
     "data": {
      "text/plain": [
       "['Apple',\n",
       " 'Corn',\n",
       " 'Dill',\n",
       " 'Eggs',\n",
       " 'Ice Cream',\n",
       " 'Kidney Beans',\n",
       " 'Milk',\n",
       " 'Nutmeg',\n",
       " 'Onion',\n",
       " 'Unicorn',\n",
       " 'Yogurt']"
      ]
     },
     "execution_count": 6,
     "metadata": {},
     "output_type": "execute_result"
    }
   ],
   "source": [
    "oht.columns_"
   ]
  },
  {
   "cell_type": "code",
   "execution_count": 7,
   "metadata": {
    "ExecuteTime": {
     "end_time": "2022-10-19T11:01:22.392089Z",
     "start_time": "2022-10-19T11:01:22.353090Z"
    }
   },
   "outputs": [
    {
     "name": "stdout",
     "output_type": "stream",
     "text": [
      "   support              itemsets\n",
      "0      0.8                (Eggs)\n",
      "1      1.0        (Kidney Beans)\n",
      "2      0.8  (Kidney Beans, Eggs)\n"
     ]
    }
   ],
   "source": [
    "# 지지도가 0.7 이상\n",
    "frequent_itemsets=apriori(df,min_support=0.7,use_colnames=True)\n",
    "print(frequent_itemsets)"
   ]
  },
  {
   "cell_type": "code",
   "execution_count": 8,
   "metadata": {
    "ExecuteTime": {
     "end_time": "2022-10-19T11:01:22.440089Z",
     "start_time": "2022-10-19T11:01:22.399090Z"
    }
   },
   "outputs": [
    {
     "name": "stdout",
     "output_type": "stream",
     "text": [
      "      antecedents     consequents  antecedent support  consequent support  \\\n",
      "0  (Kidney Beans)          (Eggs)                 1.0                 0.8   \n",
      "1          (Eggs)  (Kidney Beans)                 0.8                 1.0   \n",
      "\n",
      "   support  confidence  lift  leverage  conviction  \n",
      "0      0.8         0.8   1.0       0.0         1.0  \n",
      "1      0.8         1.0   1.0       0.0         inf  \n",
      "Empty DataFrame\n",
      "Columns: [antecedents, consequents, antecedent support, consequent support, support, confidence, lift, leverage, conviction]\n",
      "Index: []\n"
     ]
    }
   ],
   "source": [
    "# 신뢰도가 0.7이상 & 리프트가 1.2이상인 규칙 만들고 출력\n",
    "rule1=association_rules(frequent_itemsets,metric='confidence',min_threshold=0.7)\n",
    "rule2=association_rules(frequent_itemsets,metric='lift',min_threshold=1.2)\n",
    "print(rule1)\n",
    "print(rule2)"
   ]
  }
 ],
 "metadata": {
  "hide_input": false,
  "kernelspec": {
   "display_name": "Python 3 (ipykernel)",
   "language": "python",
   "name": "python3"
  },
  "language_info": {
   "codemirror_mode": {
    "name": "ipython",
    "version": 3
   },
   "file_extension": ".py",
   "mimetype": "text/x-python",
   "name": "python",
   "nbconvert_exporter": "python",
   "pygments_lexer": "ipython3",
   "version": "3.10.4"
  },
  "toc": {
   "base_numbering": 1,
   "nav_menu": {},
   "number_sections": true,
   "sideBar": true,
   "skip_h1_title": false,
   "title_cell": "Table of Contents",
   "title_sidebar": "Contents",
   "toc_cell": false,
   "toc_position": {},
   "toc_section_display": true,
   "toc_window_display": false
  },
  "vscode": {
   "interpreter": {
    "hash": "73d70afa6ea69e9144526a6a5401599dec7b759b7060f809f68e57a7e0099458"
   }
  }
 },
 "nbformat": 4,
 "nbformat_minor": 2
}
