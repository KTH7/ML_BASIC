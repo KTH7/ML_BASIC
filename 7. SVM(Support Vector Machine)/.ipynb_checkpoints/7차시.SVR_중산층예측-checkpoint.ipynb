{
 "cells": [
  {
   "cell_type": "code",
   "execution_count": null,
   "metadata": {
    "ExecuteTime": {
     "start_time": "2022-09-07T08:18:05.790Z"
    }
   },
   "outputs": [],
   "source": [
    "import pandas as pd\n",
    "%matplotlib inline\n",
    "import matplotlib.pyplot as plt\n",
    "import numpy as np\n",
    "from sklearn import svm\n",
    "\n",
    "#중산층 소비지출의 데이터를 가져온다. \n",
    "middle = pd.read_csv('./middle.csv')\n",
    "middle.head() "
   ]
  },
  {
   "cell_type": "code",
   "execution_count": 6,
   "metadata": {},
   "outputs": [],
   "source": [
    "#데이터를 정규화한다. \n",
    "from sklearn.preprocessing import StandardScaler  \n",
    "scaler = StandardScaler()  \n",
    "scaler.fit(middle)\n",
    "\n",
    "middle_regu = scaler.transform(middle)\n",
    "middle_regu.shape , type(middle_regu)\n",
    "middle_regu = pd.DataFrame(middle_regu)\n"
   ]
  },
  {
   "cell_type": "code",
   "execution_count": 7,
   "metadata": {
    "scrolled": true
   },
   "outputs": [
    {
     "data": {
      "text/html": [
       "<div>\n",
       "<style scoped>\n",
       "    .dataframe tbody tr th:only-of-type {\n",
       "        vertical-align: middle;\n",
       "    }\n",
       "\n",
       "    .dataframe tbody tr th {\n",
       "        vertical-align: top;\n",
       "    }\n",
       "\n",
       "    .dataframe thead th {\n",
       "        text-align: right;\n",
       "    }\n",
       "</style>\n",
       "<table border=\"1\" class=\"dataframe\">\n",
       "  <thead>\n",
       "    <tr style=\"text-align: right;\">\n",
       "      <th></th>\n",
       "      <th>food</th>\n",
       "      <th>book</th>\n",
       "      <th>cul</th>\n",
       "      <th>cloth</th>\n",
       "      <th>travel</th>\n",
       "      <th>status</th>\n",
       "    </tr>\n",
       "  </thead>\n",
       "  <tbody>\n",
       "    <tr>\n",
       "      <th>0</th>\n",
       "      <td>-0.679491</td>\n",
       "      <td>0.285453</td>\n",
       "      <td>0.769363</td>\n",
       "      <td>-0.392849</td>\n",
       "      <td>1.161096</td>\n",
       "      <td>0.670280</td>\n",
       "    </tr>\n",
       "    <tr>\n",
       "      <th>1</th>\n",
       "      <td>-1.366491</td>\n",
       "      <td>-0.793116</td>\n",
       "      <td>-1.704388</td>\n",
       "      <td>-0.177986</td>\n",
       "      <td>0.731897</td>\n",
       "      <td>0.670280</td>\n",
       "    </tr>\n",
       "    <tr>\n",
       "      <th>2</th>\n",
       "      <td>1.762079</td>\n",
       "      <td>-1.082473</td>\n",
       "      <td>1.588480</td>\n",
       "      <td>-0.114819</td>\n",
       "      <td>1.757418</td>\n",
       "      <td>-1.491914</td>\n",
       "    </tr>\n",
       "    <tr>\n",
       "      <th>3</th>\n",
       "      <td>0.533770</td>\n",
       "      <td>-0.490561</td>\n",
       "      <td>0.311090</td>\n",
       "      <td>-0.546207</td>\n",
       "      <td>-1.303885</td>\n",
       "      <td>0.670280</td>\n",
       "    </tr>\n",
       "    <tr>\n",
       "      <th>4</th>\n",
       "      <td>0.863950</td>\n",
       "      <td>-0.588070</td>\n",
       "      <td>0.356134</td>\n",
       "      <td>3.120538</td>\n",
       "      <td>1.546859</td>\n",
       "      <td>-1.491914</td>\n",
       "    </tr>\n",
       "    <tr>\n",
       "      <th>...</th>\n",
       "      <td>...</td>\n",
       "      <td>...</td>\n",
       "      <td>...</td>\n",
       "      <td>...</td>\n",
       "      <td>...</td>\n",
       "      <td>...</td>\n",
       "    </tr>\n",
       "    <tr>\n",
       "      <th>95</th>\n",
       "      <td>-1.578440</td>\n",
       "      <td>-0.166059</td>\n",
       "      <td>0.828053</td>\n",
       "      <td>-0.831106</td>\n",
       "      <td>0.817433</td>\n",
       "      <td>0.670280</td>\n",
       "    </tr>\n",
       "    <tr>\n",
       "      <th>96</th>\n",
       "      <td>0.589127</td>\n",
       "      <td>1.025649</td>\n",
       "      <td>-1.540227</td>\n",
       "      <td>0.791461</td>\n",
       "      <td>0.679229</td>\n",
       "      <td>0.670280</td>\n",
       "    </tr>\n",
       "    <tr>\n",
       "      <th>97</th>\n",
       "      <td>0.149533</td>\n",
       "      <td>0.282381</td>\n",
       "      <td>-0.899934</td>\n",
       "      <td>-1.467939</td>\n",
       "      <td>-0.411665</td>\n",
       "      <td>0.670280</td>\n",
       "    </tr>\n",
       "    <tr>\n",
       "      <th>98</th>\n",
       "      <td>0.440784</td>\n",
       "      <td>-0.385771</td>\n",
       "      <td>-2.105312</td>\n",
       "      <td>0.634279</td>\n",
       "      <td>0.550286</td>\n",
       "      <td>-1.491914</td>\n",
       "    </tr>\n",
       "    <tr>\n",
       "      <th>99</th>\n",
       "      <td>0.056246</td>\n",
       "      <td>-0.451241</td>\n",
       "      <td>-1.265640</td>\n",
       "      <td>0.344464</td>\n",
       "      <td>-1.800323</td>\n",
       "      <td>-1.491914</td>\n",
       "    </tr>\n",
       "  </tbody>\n",
       "</table>\n",
       "<p>100 rows × 6 columns</p>\n",
       "</div>"
      ],
      "text/plain": [
       "        food      book       cul     cloth    travel    status\n",
       "0  -0.679491  0.285453  0.769363 -0.392849  1.161096  0.670280\n",
       "1  -1.366491 -0.793116 -1.704388 -0.177986  0.731897  0.670280\n",
       "2   1.762079 -1.082473  1.588480 -0.114819  1.757418 -1.491914\n",
       "3   0.533770 -0.490561  0.311090 -0.546207 -1.303885  0.670280\n",
       "4   0.863950 -0.588070  0.356134  3.120538  1.546859 -1.491914\n",
       "..       ...       ...       ...       ...       ...       ...\n",
       "95 -1.578440 -0.166059  0.828053 -0.831106  0.817433  0.670280\n",
       "96  0.589127  1.025649 -1.540227  0.791461  0.679229  0.670280\n",
       "97  0.149533  0.282381 -0.899934 -1.467939 -0.411665  0.670280\n",
       "98  0.440784 -0.385771 -2.105312  0.634279  0.550286 -1.491914\n",
       "99  0.056246 -0.451241 -1.265640  0.344464 -1.800323 -1.491914\n",
       "\n",
       "[100 rows x 6 columns]"
      ]
     },
     "execution_count": 7,
     "metadata": {},
     "output_type": "execute_result"
    }
   ],
   "source": [
    "middle_regu.columns = ['food','book','cul','cloth','travel','status']\n",
    "middle_regu"
   ]
  },
  {
   "cell_type": "code",
   "execution_count": 8,
   "metadata": {},
   "outputs": [],
   "source": [
    "#훈련데이터를 만든다. y는 target데이터이다. \n",
    "\n",
    "X = middle_regu.iloc[:, [0,1,2,3,4]].values  \n",
    "y = middle_regu.iloc[:, 5].values  "
   ]
  },
  {
   "cell_type": "code",
   "execution_count": 11,
   "metadata": {
    "scrolled": true
   },
   "outputs": [
    {
     "data": {
      "text/plain": [
       "array([[-6.79490582e-01,  2.85452572e-01,  7.69363065e-01,\n",
       "        -3.92848549e-01,  1.16109560e+00],\n",
       "       [-1.36649081e+00, -7.93115937e-01, -1.70438786e+00,\n",
       "        -1.77986086e-01,  7.31897271e-01],\n",
       "       [ 1.76207947e+00, -1.08247293e+00,  1.58847972e+00,\n",
       "        -1.14819268e-01,  1.75741834e+00],\n",
       "       [ 5.33770153e-01, -4.90560785e-01,  3.11090235e-01,\n",
       "        -5.46207407e-01, -1.30388542e+00],\n",
       "       [ 8.63949841e-01, -5.88070095e-01,  3.56134286e-01,\n",
       "         3.12053813e+00,  1.54685944e+00],\n",
       "       [-9.55034863e-01, -6.56679973e-01,  1.03540717e-02,\n",
       "         7.84325978e-01,  1.43126140e-01],\n",
       "       [-1.04290710e+00,  3.24664723e-01,  1.94243500e-01,\n",
       "         8.05043535e-02, -1.40235462e+00],\n",
       "       [-5.31724583e-02,  4.88510281e-01,  9.15523136e-01,\n",
       "         2.84851975e-01,  7.49844332e-01],\n",
       "       [-2.19010248e-01,  3.83124161e-01,  3.96799407e-01,\n",
       "        -1.13684875e+00, -1.00538045e+00],\n",
       "       [ 1.16507338e-01,  1.10917815e+00,  6.44628679e-01,\n",
       "        -7.93871530e-01, -8.86841866e-01],\n",
       "       [-5.82172754e-01,  2.65288185e-01,  1.16754193e+00,\n",
       "        -1.15413170e+00, -7.34126711e-01],\n",
       "       [-1.31173100e+00,  6.08780124e-02,  8.41406580e-01,\n",
       "         1.54206949e-01, -1.64227134e+00],\n",
       "       [ 1.98271265e-01, -1.10047619e+00, -1.38682639e+00,\n",
       "        -1.87779954e-01,  5.46214026e-01],\n",
       "       [-1.26876730e+00,  1.67864630e+00, -6.51833593e-01,\n",
       "        -1.64507876e+00,  5.47569674e-01],\n",
       "       [-8.68275768e-03,  8.74434576e-01,  2.04805146e-01,\n",
       "         2.11831221e+00,  2.32582680e-01],\n",
       "       [ 3.82748089e-01, -6.25647956e-01, -1.34805119e+00,\n",
       "         1.24810106e+00,  6.63454128e-01],\n",
       "       [-4.39448735e-01,  7.71466910e-01,  7.29730513e-01,\n",
       "         4.83429143e-01,  7.36339468e-01],\n",
       "       [ 6.22118877e-01,  5.85284549e-01, -1.53500254e+00,\n",
       "         1.37231005e+00, -1.29487520e+00],\n",
       "       [-2.69907692e-01,  5.64409101e-01, -4.96678000e-01,\n",
       "         1.39242707e+00,  1.25434987e+00],\n",
       "       [ 1.10549916e+00,  1.44732230e-02, -2.78696203e-01,\n",
       "        -8.28222763e-02,  1.27879657e+00],\n",
       "       [ 8.60002032e-01,  1.79033276e+00,  4.35199542e-01,\n",
       "         1.19747570e+00, -6.01317991e-01],\n",
       "       [-2.21156801e+00, -7.93244951e-01,  1.11334370e+00,\n",
       "         4.81780634e-01,  4.92343502e-01],\n",
       "       [-6.65972380e-01,  3.84483810e-01, -4.11381004e-01,\n",
       "        -3.90817889e-01,  9.30268452e-01],\n",
       "       [-9.73692760e-01, -3.80296710e-01, -3.08480962e-04,\n",
       "        -2.11264901e-01, -2.05331181e+00],\n",
       "       [ 7.11491860e-01,  2.12151797e+00,  1.00791102e+00,\n",
       "         2.64601354e-01, -3.57190130e-01],\n",
       "       [-9.88761084e-02, -3.59968659e-01, -3.69440577e-01,\n",
       "        -1.83024175e+00,  7.40757026e-01],\n",
       "       [ 1.05337972e+00,  1.27512976e+00, -3.65054619e-01,\n",
       "         5.47321976e-01, -3.36491477e-01],\n",
       "       [-2.12647770e-01, -1.15120798e+00,  5.46067311e-01,\n",
       "        -1.06631518e+00,  1.08122047e+00],\n",
       "       [ 3.68433393e-01,  7.23825198e-01, -1.18240651e-01,\n",
       "        -1.01532164e+00, -4.60968398e-02],\n",
       "       [-4.58741834e-01, -1.45844110e+00, -1.03146404e+00,\n",
       "         1.22544832e+00,  3.44366238e-01],\n",
       "       [ 9.27485097e-01, -8.23627434e-01, -1.99464774e-01,\n",
       "        -4.75560212e-01,  5.38024719e-01],\n",
       "       [ 3.82344545e-01, -1.25443905e+00, -3.36124440e-01,\n",
       "         7.38976672e-01,  7.20548885e-01],\n",
       "       [-9.36385156e-01,  6.47738938e-02,  9.64797525e-01,\n",
       "        -5.46004878e-01, -9.52030476e-01],\n",
       "       [ 2.58210083e-01, -1.80369140e+00, -1.41292820e+00,\n",
       "         1.29217171e-01, -2.28104620e-01],\n",
       "       [-1.00362965e+00,  3.15740712e+00, -2.67157734e-01,\n",
       "         1.85574320e+00,  9.04759488e-01],\n",
       "       [ 8.37810142e-01, -4.59552362e-01,  2.45119902e-01,\n",
       "         8.33883637e-01,  4.46555895e-01],\n",
       "       [ 4.08957589e-01, -2.84848901e-01, -1.99564907e-01,\n",
       "        -6.20005702e-01, -1.33645525e+00],\n",
       "       [-1.27716215e+00,  1.01957120e+00, -9.70117870e-01,\n",
       "        -9.28829405e-01, -7.36721204e-02],\n",
       "       [-5.36933255e-01,  1.11460642e+00,  2.19142920e-01,\n",
       "        -6.70938178e-01,  9.59662285e-01],\n",
       "       [-1.80586495e+00, -9.77430107e-01,  5.15705552e-01,\n",
       "         2.34437829e-01, -1.14892315e+00],\n",
       "       [ 1.23305755e-01, -4.24970608e-01,  3.61688369e-01,\n",
       "         7.32753743e-01,  7.19495127e-01],\n",
       "       [ 1.33060389e-01, -9.30992079e-01,  6.72660623e-01,\n",
       "         2.60756755e+00,  1.18316347e+00],\n",
       "       [-9.91342021e-01, -1.35893877e-01, -4.84853737e-01,\n",
       "        -6.31278796e-01, -1.35392102e+00],\n",
       "       [ 1.93530692e+00,  8.15935189e-01, -1.16739974e+00,\n",
       "        -1.35850686e-01, -1.55345041e-02],\n",
       "       [ 7.40303559e-01,  1.73794155e-01,  5.19772170e-01,\n",
       "        -9.19990344e-01, -1.65759092e+00],\n",
       "       [ 6.04585965e-01, -2.05563788e-01,  2.24235581e+00,\n",
       "        -1.44244222e+00,  1.42769439e+00],\n",
       "       [-9.52816742e-01, -8.97942318e-01, -1.29209589e+00,\n",
       "        -1.21174499e+00,  8.21384425e-01],\n",
       "       [ 8.04754635e-01, -1.29386432e+00,  4.07414693e-01,\n",
       "         8.99525596e-01,  1.90413689e+00],\n",
       "       [-1.58141427e+00,  4.12429961e-01, -1.18749522e+00,\n",
       "         1.23590456e+00,  3.18357855e-01],\n",
       "       [-7.65085026e-01,  4.17005335e-01, -1.39159213e+00,\n",
       "        -3.41063789e-01,  1.42094081e-02],\n",
       "       [ 8.33593157e-02,  1.38359696e+00,  8.04599840e-01,\n",
       "         1.92341870e-01, -1.46227997e+00],\n",
       "       [ 6.13779867e-01,  3.16192892e-01, -7.64041159e-01,\n",
       "         2.79887104e-01, -2.03497353e+00],\n",
       "       [ 4.21477203e-01,  2.23958293e-01, -1.89615214e+00,\n",
       "        -2.25650464e-01, -7.45980823e-01],\n",
       "       [-1.15322955e+00,  7.93593966e-01,  1.23924636e+00,\n",
       "        -7.05340168e-01, -2.57563664e-01],\n",
       "       [ 2.65999208e-01, -1.18508528e-01, -1.98736082e+00,\n",
       "         1.43261040e+00, -2.87500679e-01],\n",
       "       [-1.09794722e+00,  1.17867040e+00,  1.15981896e+00,\n",
       "        -1.27743436e+00,  3.61949152e-03],\n",
       "       [ 1.72243400e-01, -5.34759405e-01,  5.90679631e-02,\n",
       "        -6.37670093e-01,  3.31560313e-01],\n",
       "       [ 1.29236205e-01, -2.36388198e+00,  1.16609192e+00,\n",
       "        -7.43960692e-02, -1.49909906e+00],\n",
       "       [ 8.61686835e-01, -1.17158626e+00, -5.57677007e-01,\n",
       "        -1.20198544e+00,  2.02794488e+00],\n",
       "       [ 2.04270322e+00, -4.70675383e-01,  7.53852927e-01,\n",
       "        -4.51334947e-01,  3.41600476e-02],\n",
       "       [-2.31610355e+00, -1.41975040e+00,  2.80543371e+00,\n",
       "         8.69186842e-01,  1.95553580e+00],\n",
       "       [-1.20450561e-01,  9.91508428e-01, -7.29674970e-01,\n",
       "         6.90223890e-01,  1.70245795e+00],\n",
       "       [ 5.22578891e-01,  1.63423955e-01,  1.85956331e+00,\n",
       "        -1.12569009e+00,  1.04490679e-01],\n",
       "       [ 4.94554309e-01, -8.58403159e-01,  1.97930893e-01,\n",
       "         1.54010460e-01, -1.33844158e+00],\n",
       "       [ 1.28846743e+00, -9.03545738e-01, -1.27277521e-02,\n",
       "         2.19102272e-01, -1.27960311e+00],\n",
       "       [ 1.20699098e+00,  2.69253787e+00,  1.36959784e-01,\n",
       "        -1.73992654e-02, -3.72465839e-01],\n",
       "       [-1.11095267e+00, -6.14241724e-01, -2.92839679e-01,\n",
       "         6.00115725e-01, -5.81746567e-01],\n",
       "       [ 2.76382088e-01, -2.35784652e-01, -2.08103668e-01,\n",
       "        -1.26779793e+00,  4.94684785e-01],\n",
       "       [ 1.34645543e+00, -1.54796202e+00,  2.34134230e-02,\n",
       "         6.24168592e-01,  3.05752557e-01],\n",
       "       [-7.45804224e-01,  1.17840361e+00,  1.53922726e+00,\n",
       "         1.37148237e+00, -4.35558829e-01],\n",
       "       [-1.18387153e+00,  5.88212683e-01, -5.80480721e-01,\n",
       "         1.04596746e+00, -1.69394420e+00],\n",
       "       [-1.75367521e-01,  1.05275915e+00, -1.99707501e-01,\n",
       "        -3.99713829e-01, -4.27325575e-01],\n",
       "       [-6.40083258e-01, -3.49872717e-01,  2.60409889e-01,\n",
       "        -8.43648804e-01,  1.99087637e-01],\n",
       "       [ 3.04672126e+00, -1.07138312e+00, -1.72259277e+00,\n",
       "        -6.20548551e-01,  1.75521115e+00],\n",
       "       [-5.22721644e-02, -6.04844641e-01, -1.20698806e+00,\n",
       "        -1.89400857e-01, -1.19424780e+00],\n",
       "       [ 1.31509123e+00,  1.08605031e+00,  6.29166943e-02,\n",
       "         1.17512590e-02, -4.30931349e-01],\n",
       "       [ 1.31652465e+00,  1.62947790e+00, -3.05460307e-01,\n",
       "         7.24596521e-01,  1.20150837e+00],\n",
       "       [-1.80620424e-01, -7.54691898e-01,  1.45694388e+00,\n",
       "        -3.34048190e-01,  6.33721354e-01],\n",
       "       [ 1.61610708e+00, -3.55356370e-01,  5.97825627e-01,\n",
       "         4.04567895e-01, -4.24427612e-01],\n",
       "       [ 2.06909523e-01, -1.52997349e+00, -1.68432144e+00,\n",
       "        -1.69700367e+00,  3.00129183e-02],\n",
       "       [-1.89409164e+00,  7.97832175e-01, -1.50628889e-01,\n",
       "        -1.07577458e+00,  6.87570922e-02],\n",
       "       [-5.97937756e-01,  1.11996138e+00, -7.40104185e-02,\n",
       "        -1.55291260e+00, -2.18091633e-01],\n",
       "       [ 1.04732891e+00, -1.47609909e+00,  6.03983563e-01,\n",
       "        -1.53653408e+00, -2.14985555e+00],\n",
       "       [ 1.01092378e+00,  1.64383651e-01,  7.26303032e-01,\n",
       "         9.09570619e-01,  4.92272078e-01],\n",
       "       [-1.19933943e+00, -1.08142789e+00, -2.13594996e-01,\n",
       "         3.30946192e-01, -7.05075800e-01],\n",
       "       [ 8.11480684e-01,  1.12950134e+00, -5.91457174e-01,\n",
       "        -1.38499736e+00, -6.55694185e-01],\n",
       "       [ 1.11792507e+00, -7.30448015e-01, -4.76285974e-02,\n",
       "        -2.74468453e-01,  7.00795738e-01],\n",
       "       [-4.98717633e-01,  2.55943177e-01,  1.11818264e+00,\n",
       "        -6.90381501e-01,  5.71706503e-01],\n",
       "       [ 3.35140221e-02, -1.01567574e-01,  2.34408553e+00,\n",
       "        -1.06662012e-02, -8.77384637e-01],\n",
       "       [-1.25590284e+00, -2.50316303e-01, -8.83086364e-01,\n",
       "         2.27384086e-01,  7.17524117e-01],\n",
       "       [ 1.38124286e+00, -8.28826575e-01,  9.69582883e-01,\n",
       "         1.49679769e+00, -7.75011245e-01],\n",
       "       [ 3.31127200e-01, -5.43966116e-01,  8.35477551e-01,\n",
       "        -1.14748664e+00,  7.16218464e-01],\n",
       "       [ 2.64118674e-01,  1.67256893e+00,  1.11642841e+00,\n",
       "        -8.49525773e-01,  4.94659852e-01],\n",
       "       [-2.36394841e-02,  1.62981266e-01, -7.37354582e-01,\n",
       "         1.80708181e+00, -8.39962327e-01],\n",
       "       [-1.70127554e+00, -8.72269028e-01, -7.83517018e-01,\n",
       "         1.37527807e+00, -1.55597003e-01],\n",
       "       [-1.57843978e+00, -1.66058730e-01,  8.28053314e-01,\n",
       "        -8.31106446e-01,  8.17432815e-01],\n",
       "       [ 5.89126943e-01,  1.02564880e+00, -1.54022746e+00,\n",
       "         7.91461128e-01,  6.79229145e-01],\n",
       "       [ 1.49533203e-01,  2.82381313e-01, -8.99933589e-01,\n",
       "        -1.46793947e+00, -4.11664527e-01],\n",
       "       [ 4.40784136e-01, -3.85770734e-01, -2.10531230e+00,\n",
       "         6.34279070e-01,  5.50286061e-01],\n",
       "       [ 5.62456799e-02, -4.51240911e-01, -1.26563961e+00,\n",
       "         3.44464473e-01, -1.80032285e+00]])"
      ]
     },
     "execution_count": 11,
     "metadata": {},
     "output_type": "execute_result"
    }
   ],
   "source": [
    "X.shape , len(middle) , y.shape\n",
    "X"
   ]
  },
  {
   "cell_type": "code",
   "execution_count": 12,
   "metadata": {},
   "outputs": [
    {
     "data": {
      "text/plain": [
       "array([ 0.67028006,  0.67028006, -1.49191369,  0.67028006, -1.49191369,\n",
       "        0.67028006,  0.67028006,  0.67028006,  0.67028006,  0.67028006,\n",
       "        0.67028006,  0.67028006,  0.67028006,  0.67028006, -1.49191369,\n",
       "        0.67028006,  0.67028006,  0.67028006,  0.67028006,  0.67028006,\n",
       "       -1.49191369, -1.49191369,  0.67028006, -1.49191369, -1.49191369,\n",
       "       -1.49191369,  0.67028006,  0.67028006,  0.67028006,  0.67028006,\n",
       "        0.67028006,  0.67028006,  0.67028006, -1.49191369, -1.49191369,\n",
       "        0.67028006,  0.67028006,  0.67028006,  0.67028006, -1.49191369,\n",
       "        0.67028006, -1.49191369,  0.67028006, -1.49191369,  0.67028006,\n",
       "       -1.49191369,  0.67028006, -1.49191369,  0.67028006,  0.67028006,\n",
       "        0.67028006, -1.49191369, -1.49191369,  0.67028006, -1.49191369,\n",
       "        0.67028006,  0.67028006, -1.49191369, -1.49191369, -1.49191369,\n",
       "       -1.49191369,  0.67028006, -1.49191369,  0.67028006,  0.67028006,\n",
       "       -1.49191369,  0.67028006,  0.67028006,  0.67028006,  0.67028006,\n",
       "        0.67028006,  0.67028006,  0.67028006, -1.49191369,  0.67028006,\n",
       "        0.67028006,  0.67028006,  0.67028006,  0.67028006,  0.67028006,\n",
       "       -1.49191369,  0.67028006, -1.49191369,  0.67028006,  0.67028006,\n",
       "        0.67028006,  0.67028006,  0.67028006, -1.49191369,  0.67028006,\n",
       "        0.67028006,  0.67028006,  0.67028006, -1.49191369,  0.67028006,\n",
       "        0.67028006,  0.67028006,  0.67028006, -1.49191369, -1.49191369])"
      ]
     },
     "execution_count": 12,
     "metadata": {},
     "output_type": "execute_result"
    }
   ],
   "source": [
    "y"
   ]
  },
  {
   "cell_type": "code",
   "execution_count": 13,
   "metadata": {},
   "outputs": [
    {
     "name": "stdout",
     "output_type": "stream",
     "text": [
      "결정계수 0.6082849462996812\n"
     ]
    },
    {
     "data": {
      "image/png": "[encoded data removed]",
      "text/plain": [
       "<Figure size 432x288 with 1 Axes>"
      ]
     },
     "metadata": {
      "needs_background": "light"
     },
     "output_type": "display_data"
    }
   ],
   "source": [
    "model = svm.SVR()\n",
    "model.fit(X, y)\n",
    "\n",
    "#결정계수를 계산한다. \n",
    "r2 = model.score(X, y)\n",
    "print('결정계수', r2)\n",
    "\n",
    "#시각화 \n",
    "plt.scatter(X[:,2], y, marker='+' , c = 'blue')\n",
    "plt.scatter(X[:,2], model.predict(X), marker='o' , c = 'red')\n",
    "plt.show()\n"
   ]
  },
  {
   "cell_type": "code",
   "execution_count": 14,
   "metadata": {},
   "outputs": [],
   "source": [
    "pred_lst = list(model.predict(X) > 0)"
   ]
  },
  {
   "cell_type": "code",
   "execution_count": 15,
   "metadata": {},
   "outputs": [],
   "source": [
    "origin_lst = list(middle.status == 1)"
   ]
  },
  {
   "cell_type": "code",
   "execution_count": 16,
   "metadata": {
    "collapsed": true
   },
   "outputs": [
    {
     "data": {
      "text/plain": [
       "[True,\n",
       " True,\n",
       " False,\n",
       " True,\n",
       " False,\n",
       " True,\n",
       " True,\n",
       " True,\n",
       " True,\n",
       " True,\n",
       " True,\n",
       " True,\n",
       " True,\n",
       " True,\n",
       " False,\n",
       " True,\n",
       " True,\n",
       " False,\n",
       " True,\n",
       " True,\n",
       " False,\n",
       " False,\n",
       " True,\n",
       " True,\n",
       " False,\n",
       " True,\n",
       " True,\n",
       " True,\n",
       " True,\n",
       " True,\n",
       " True,\n",
       " True,\n",
       " True,\n",
       " True,\n",
       " False,\n",
       " True,\n",
       " True,\n",
       " True,\n",
       " True,\n",
       " False,\n",
       " True,\n",
       " False,\n",
       " True,\n",
       " False,\n",
       " True,\n",
       " False,\n",
       " True,\n",
       " False,\n",
       " True,\n",
       " True,\n",
       " True,\n",
       " False,\n",
       " False,\n",
       " True,\n",
       " False,\n",
       " True,\n",
       " True,\n",
       " False,\n",
       " False,\n",
       " False,\n",
       " False,\n",
       " True,\n",
       " False,\n",
       " True,\n",
       " True,\n",
       " False,\n",
       " True,\n",
       " True,\n",
       " True,\n",
       " True,\n",
       " True,\n",
       " True,\n",
       " True,\n",
       " False,\n",
       " True,\n",
       " True,\n",
       " True,\n",
       " True,\n",
       " True,\n",
       " True,\n",
       " True,\n",
       " True,\n",
       " False,\n",
       " True,\n",
       " True,\n",
       " True,\n",
       " True,\n",
       " True,\n",
       " False,\n",
       " True,\n",
       " True,\n",
       " True,\n",
       " True,\n",
       " False,\n",
       " True,\n",
       " True,\n",
       " True,\n",
       " True,\n",
       " False,\n",
       " False]"
      ]
     },
     "execution_count": 16,
     "metadata": {},
     "output_type": "execute_result"
    }
   ],
   "source": [
    "pred_lst"
   ]
  },
  {
   "cell_type": "code",
   "execution_count": 19,
   "metadata": {},
   "outputs": [
    {
     "data": {
      "text/plain": [
       "0.95"
      ]
     },
     "execution_count": 19,
     "metadata": {},
     "output_type": "execute_result"
    }
   ],
   "source": [
    "sum([pred_lst[i] == origin_lst[i] for i in range(0,len(pred_lst))]) / len(pred_lst)"
   ]
  },
  {
   "cell_type": "code",
   "execution_count": 20,
   "metadata": {},
   "outputs": [
    {
     "data": {
      "text/plain": [
       "array([[1.799e+01, 1.038e+01, 1.228e+02, ..., 2.654e-01, 4.601e-01,\n",
       "        1.189e-01],\n",
       "       [2.057e+01, 1.777e+01, 1.329e+02, ..., 1.860e-01, 2.750e-01,\n",
       "        8.902e-02],\n",
       "       [1.969e+01, 2.125e+01, 1.300e+02, ..., 2.430e-01, 3.613e-01,\n",
       "        8.758e-02],\n",
       "       ...,\n",
       "       [1.660e+01, 2.808e+01, 1.083e+02, ..., 1.418e-01, 2.218e-01,\n",
       "        7.820e-02],\n",
       "       [2.060e+01, 2.933e+01, 1.401e+02, ..., 2.650e-01, 4.087e-01,\n",
       "        1.240e-01],\n",
       "       [7.760e+00, 2.454e+01, 4.792e+01, ..., 0.000e+00, 2.871e-01,\n",
       "        7.039e-02]])"
      ]
     },
     "execution_count": 20,
     "metadata": {},
     "output_type": "execute_result"
    }
   ],
   "source": [
    "from sklearn import datasets\n",
    "from sklearn import svm\n",
    "\n",
    "cancer=datasets.load_breast_cancer()\n",
    "cancer.data"
   ]
  },
  {
   "cell_type": "code",
   "execution_count": 21,
   "metadata": {},
   "outputs": [
    {
     "name": "stdout",
     "output_type": "stream",
     "text": [
      "Features: ['mean radius' 'mean texture' 'mean perimeter' 'mean area'\n",
      " 'mean smoothness' 'mean compactness' 'mean concavity'\n",
      " 'mean concave points' 'mean symmetry' 'mean fractal dimension'\n",
      " 'radius error' 'texture error' 'perimeter error' 'area error'\n",
      " 'smoothness error' 'compactness error' 'concavity error'\n",
      " 'concave points error' 'symmetry error' 'fractal dimension error'\n",
      " 'worst radius' 'worst texture' 'worst perimeter' 'worst area'\n",
      " 'worst smoothness' 'worst compactness' 'worst concavity'\n",
      " 'worst concave points' 'worst symmetry' 'worst fractal dimension']\n",
      "Labels: ['malignant' 'benign']\n"
     ]
    }
   ],
   "source": [
    "print(\"Features:\",cancer.feature_names)\n",
    "print(\"Labels:\",cancer.target_names)"
   ]
  },
  {
   "cell_type": "code",
   "execution_count": 22,
   "metadata": {},
   "outputs": [
    {
     "data": {
      "text/plain": [
       "(569, 30)"
      ]
     },
     "execution_count": 22,
     "metadata": {},
     "output_type": "execute_result"
    }
   ],
   "source": [
    "cancer.data.shape"
   ]
  },
  {
   "cell_type": "code",
   "execution_count": 24,
   "metadata": {},
   "outputs": [
    {
     "data": {
      "text/plain": [
       "(array([0, 0, 0, 0, 0, 0, 0, 0, 0, 0, 0, 0, 0, 0, 0, 0, 0, 0, 0, 1, 1, 1,\n",
       "        0, 0, 0, 0, 0, 0, 0, 0, 0, 0, 0, 0, 0, 0, 0, 1, 0, 0, 0, 0, 0, 0,\n",
       "        0, 0, 1, 0, 1, 1, 1, 1, 1, 0, 0, 1, 0, 0, 1, 1, 1, 1, 0, 1, 0, 0,\n",
       "        1, 1, 1, 1, 0, 1, 0, 0, 1, 0, 1, 0, 0, 1, 1, 1, 0, 0, 1, 0, 0, 0,\n",
       "        1, 1, 1, 0, 1, 1, 0, 0, 1, 1, 1, 0, 0, 1, 1, 1, 1, 0, 1, 1, 0, 1,\n",
       "        1, 1, 1, 1, 1, 1, 1, 0, 0, 0, 1, 0, 0, 1, 1, 1, 0, 0, 1, 0, 1, 0,\n",
       "        0, 1, 0, 0, 1, 1, 0, 1, 1, 0, 1, 1, 1, 1, 0, 1, 1, 1, 1, 1, 1, 1,\n",
       "        1, 1, 0, 1, 1, 1, 1, 0, 0, 1, 0, 1, 1, 0, 0, 1, 1, 0, 0, 1, 1, 1,\n",
       "        1, 0, 1, 1, 0, 0, 0, 1, 0, 1, 0, 1, 1, 1, 0, 1, 1, 0, 0, 1, 0, 0,\n",
       "        0, 0, 1, 0, 0, 0, 1, 0, 1, 0, 1, 1, 0, 1, 0, 0, 0, 0, 1, 1, 0, 0,\n",
       "        1, 1, 1, 0, 1, 1, 1, 1, 1, 0, 0, 1, 1, 0, 1, 1, 0, 0, 1, 0, 1, 1,\n",
       "        1, 1, 0, 1, 1, 1, 1, 1, 0, 1, 0, 0, 0, 0, 0, 0, 0, 0, 0, 0, 0, 0,\n",
       "        0, 0, 1, 1, 1, 1, 1, 1, 0, 1, 0, 1, 1, 0, 1, 1, 0, 1, 0, 0, 1, 1,\n",
       "        1, 1, 1, 1, 1, 1, 1, 1, 1, 1, 1, 0, 1, 1, 0, 1, 0, 1, 1, 1, 1, 1,\n",
       "        1, 1, 1, 1, 1, 1, 1, 1, 1, 0, 1, 1, 1, 0, 1, 0, 1, 1, 1, 1, 0, 0,\n",
       "        0, 1, 1, 1, 1, 0, 1, 0, 1, 0, 1, 1, 1, 0, 1, 1, 1, 1, 1, 1, 1, 0,\n",
       "        0, 0, 1, 1, 1, 1, 1, 1, 1, 1, 1, 1, 1, 0, 0, 1, 0, 0, 0, 1, 0, 0,\n",
       "        1, 1, 1, 1, 1, 0, 1, 1, 1, 1, 1, 0, 1, 1, 1, 0, 1, 1, 0, 0, 1, 1,\n",
       "        1, 1, 1, 1, 0, 1, 1, 1, 1, 1, 1, 1, 0, 1, 1, 1, 1, 1, 0, 1, 1, 0,\n",
       "        1, 1, 1, 1, 1, 1, 1, 1, 1, 1, 1, 1, 0, 1, 0, 0, 1, 0, 1, 1, 1, 1,\n",
       "        1, 0, 1, 1, 0, 1, 0, 1, 1, 0, 1, 0, 1, 1, 1, 1, 1, 1, 1, 1, 0, 0,\n",
       "        1, 1, 1, 1, 1, 1, 0, 1, 1, 1, 1, 1, 1, 1, 1, 1, 1, 0, 1, 1, 1, 1,\n",
       "        1, 1, 1, 0, 1, 0, 1, 1, 0, 1, 1, 1, 1, 1, 0, 0, 1, 0, 1, 0, 1, 1,\n",
       "        1, 1, 1, 0, 1, 1, 0, 1, 0, 1, 0, 0, 1, 1, 1, 0, 1, 1, 1, 1, 1, 1,\n",
       "        1, 1, 1, 1, 1, 0, 1, 0, 0, 1, 1, 1, 1, 1, 1, 1, 1, 1, 1, 1, 1, 1,\n",
       "        1, 1, 1, 1, 1, 1, 1, 1, 1, 1, 1, 1, 0, 0, 0, 0, 0, 0, 1]),\n",
       " (569,))"
      ]
     },
     "execution_count": 24,
     "metadata": {},
     "output_type": "execute_result"
    }
   ],
   "source": [
    "cancer.target,cancer.target.shape"
   ]
  },
  {
   "cell_type": "code",
   "execution_count": 25,
   "metadata": {},
   "outputs": [
    {
     "data": {
      "text/plain": [
       "(array([[1.799e+01, 1.038e+01, 1.228e+02, ..., 2.654e-01, 4.601e-01,\n",
       "         1.189e-01],\n",
       "        [2.057e+01, 1.777e+01, 1.329e+02, ..., 1.860e-01, 2.750e-01,\n",
       "         8.902e-02],\n",
       "        [1.969e+01, 2.125e+01, 1.300e+02, ..., 2.430e-01, 3.613e-01,\n",
       "         8.758e-02],\n",
       "        ...,\n",
       "        [1.660e+01, 2.808e+01, 1.083e+02, ..., 1.418e-01, 2.218e-01,\n",
       "         7.820e-02],\n",
       "        [2.060e+01, 2.933e+01, 1.401e+02, ..., 2.650e-01, 4.087e-01,\n",
       "         1.240e-01],\n",
       "        [7.760e+00, 2.454e+01, 4.792e+01, ..., 0.000e+00, 2.871e-01,\n",
       "         7.039e-02]]),\n",
       " (569, 30))"
      ]
     },
     "execution_count": 25,
     "metadata": {},
     "output_type": "execute_result"
    }
   ],
   "source": [
    "cancer.data,cancer.data.shape"
   ]
  },
  {
   "cell_type": "code",
   "execution_count": 26,
   "metadata": {},
   "outputs": [],
   "source": [
    "from sklearn.model_selection import train_test_split\n",
    "\n",
    "X_train,X_test,y_train,y_test=train_test_split(cancer.data,cancer.target,test_size=0.3,random_state=109)"
   ]
  },
  {
   "cell_type": "code",
   "execution_count": 27,
   "metadata": {},
   "outputs": [
    {
     "data": {
      "text/plain": [
       "(array([[1.422e+01, 2.312e+01, 9.437e+01, ..., 1.772e-01, 5.166e-01,\n",
       "         1.446e-01],\n",
       "        [1.120e+01, 2.937e+01, 7.067e+01, ..., 0.000e+00, 1.566e-01,\n",
       "         5.905e-02],\n",
       "        [1.650e+01, 1.829e+01, 1.066e+02, ..., 9.123e-02, 2.394e-01,\n",
       "         6.469e-02],\n",
       "        ...,\n",
       "        [1.611e+01, 1.805e+01, 1.051e+02, ..., 1.216e-01, 2.792e-01,\n",
       "         8.158e-02],\n",
       "        [1.048e+01, 1.986e+01, 6.672e+01, ..., 6.736e-02, 2.883e-01,\n",
       "         7.748e-02],\n",
       "        [1.729e+01, 2.213e+01, 1.144e+02, ..., 1.528e-01, 3.067e-01,\n",
       "         7.484e-02]]),\n",
       " array([0, 1, 1, 1, 1, 1, 1, 0, 0, 1, 0, 1, 1, 0, 0, 0, 0, 1, 0, 1, 0, 1,\n",
       "        1, 1, 1, 0, 0, 1, 0, 1, 1, 1, 1, 1, 0, 1, 0, 1, 0, 1, 0, 1, 0, 0,\n",
       "        0, 0, 1, 1, 0, 1, 0, 1, 0, 0, 1, 0, 0, 1, 1, 1, 1, 1, 1, 0, 0, 1,\n",
       "        1, 1, 1, 1, 1, 1, 1, 0, 1, 1, 1, 1, 0, 1, 1, 1, 0, 1, 1, 1, 1, 0,\n",
       "        1, 1, 1, 1, 1, 1, 1, 0, 1, 1, 1, 0, 1, 1, 0, 1, 1, 1, 0, 1, 1, 0,\n",
       "        0, 0, 1, 1, 1, 0, 1, 1, 1, 0, 0, 1, 1, 1, 0, 1, 0, 0, 0, 1, 0, 1,\n",
       "        1, 1, 0, 1, 0, 1, 0, 0, 1, 1, 1, 1, 0, 0, 1, 1, 1, 1, 1, 0, 1, 1,\n",
       "        1, 0, 0, 1, 0, 1, 0, 0, 0, 0, 1, 1, 0, 0, 1, 1, 1, 1, 1, 1, 1, 1,\n",
       "        1, 0, 1, 0, 0, 0, 1, 1, 0, 1, 0, 1, 1, 1, 0, 1, 1, 0, 0, 1, 0, 1,\n",
       "        1, 1, 0, 0, 1, 0, 1, 1, 1, 1, 0, 1, 1, 1, 1, 1, 0, 1, 1, 1, 0, 0,\n",
       "        0, 1, 0, 0, 1, 1, 1, 1, 1, 0, 0, 0, 1, 1, 1, 0, 1, 0, 1, 1, 1, 1,\n",
       "        1, 0, 0, 0, 1, 1, 1, 0, 1, 0, 0, 0, 0, 0, 1, 1, 1, 1, 0, 1, 1, 1,\n",
       "        0, 1, 1, 0, 1, 0, 1, 0, 1, 0, 1, 1, 0, 1, 1, 1, 1, 1, 1, 0, 0, 0,\n",
       "        0, 1, 0, 1, 1, 1, 0, 1, 1, 1, 0, 1, 0, 0, 1, 1, 1, 0, 1, 0, 1, 0,\n",
       "        0, 0, 0, 1, 1, 0, 0, 1, 0, 1, 1, 1, 0, 1, 0, 1, 1, 0, 1, 1, 0, 0,\n",
       "        1, 0, 1, 0, 1, 0, 1, 0, 0, 1, 1, 1, 1, 1, 1, 1, 1, 1, 1, 1, 1, 0,\n",
       "        0, 0, 0, 1, 1, 1, 0, 0, 1, 1, 1, 0, 0, 1, 1, 1, 1, 0, 1, 1, 1, 1,\n",
       "        1, 1, 1, 1, 1, 1, 1, 0, 1, 1, 1, 1, 1, 1, 0, 0, 0, 1, 1, 0, 1, 0,\n",
       "        1, 0]))"
      ]
     },
     "execution_count": 27,
     "metadata": {},
     "output_type": "execute_result"
    }
   ],
   "source": [
    "X_train,y_train"
   ]
  },
  {
   "cell_type": "code",
   "execution_count": 28,
   "metadata": {},
   "outputs": [
    {
     "data": {
      "text/plain": [
       "array([1, 1, 0, 0, 1, 0, 1, 1, 1, 0, 0, 0, 1, 0, 0, 1, 0, 0, 1, 0, 1, 1,\n",
       "       0, 0, 1, 1, 0, 1, 1, 1, 1, 0, 1, 1, 1, 1, 1, 0, 1, 1, 0, 1, 0, 1,\n",
       "       1, 1, 1, 1, 0, 0, 1, 1, 0, 1, 1, 0, 1, 1, 1, 0, 0, 1, 0, 1, 0, 0,\n",
       "       1, 1, 1, 1, 0, 1, 1, 1, 0, 1, 0, 1, 1, 1, 1, 1, 1, 1, 0, 0, 1, 1,\n",
       "       1, 1, 0, 0, 0, 0, 1, 1, 1, 1, 1, 0, 0, 1, 0, 0, 1, 1, 0, 1, 0, 1,\n",
       "       1, 0, 1, 1, 0, 0, 0, 1, 0, 1, 1, 1, 1, 1, 0, 1, 0, 1, 0, 1, 0, 0,\n",
       "       0, 1, 0, 1, 1, 0, 1, 1, 1, 0, 1, 1, 0, 0, 1, 0, 0, 0, 1, 1, 1, 1,\n",
       "       1, 0, 0, 1, 0, 1, 1, 1, 1, 1, 1, 1, 1, 0, 1, 1, 1])"
      ]
     },
     "execution_count": 28,
     "metadata": {},
     "output_type": "execute_result"
    }
   ],
   "source": [
    "clf=svm.SVC(kernel='linear')\n",
    "clf.fit(X_train,y_train)\n",
    "\n",
    "y_pred=clf.predict(X_test)\n",
    "y_pred"
   ]
  },
  {
   "cell_type": "code",
   "execution_count": 30,
   "metadata": {},
   "outputs": [
    {
     "name": "stdout",
     "output_type": "stream",
     "text": [
      "Accuracy: 0.9649122807017544\n"
     ]
    }
   ],
   "source": [
    "from sklearn import metrics\n",
    "\n",
    "print(\"Accuracy:\",metrics.accuracy_score(y_test,y_pred))"
   ]
  }
 ],
 "metadata": {
  "anaconda-cloud": {},
  "hide_input": false,
  "kernelspec": {
   "display_name": "Python 3 (ipykernel)",
   "language": "python",
   "name": "python3"
  },
  "language_info": {
   "codemirror_mode": {
    "name": "ipython",
    "version": 3
   },
   "file_extension": ".py",
   "mimetype": "text/x-python",
   "name": "python",
   "nbconvert_exporter": "python",
   "pygments_lexer": "ipython3",
   "version": "3.10.4"
  },
  "toc": {
   "base_numbering": 1,
   "nav_menu": {},
   "number_sections": true,
   "sideBar": true,
   "skip_h1_title": false,
   "title_cell": "Table of Contents",
   "title_sidebar": "Contents",
   "toc_cell": false,
   "toc_position": {},
   "toc_section_display": true,
   "toc_window_display": false
  },
  "vscode": {
   "interpreter": {
    "hash": "73d70afa6ea69e9144526a6a5401599dec7b759b7060f809f68e57a7e0099458"
   }
  }
 },
 "nbformat": 4,
 "nbformat_minor": 1
}
