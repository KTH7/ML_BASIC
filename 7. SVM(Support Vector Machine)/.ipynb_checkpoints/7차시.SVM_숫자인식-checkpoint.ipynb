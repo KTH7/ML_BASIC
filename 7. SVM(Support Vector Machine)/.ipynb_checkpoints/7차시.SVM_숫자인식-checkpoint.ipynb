{
 "cells": [
  {
   "cell_type": "code",
   "execution_count": 1,
   "metadata": {
    "ExecuteTime": {
     "end_time": "2022-09-07T08:17:45.012338Z",
     "start_time": "2022-09-07T08:17:42.074826Z"
    }
   },
   "outputs": [
    {
     "data": {
      "image/png": "[encoded data removed]",
      "text/plain": [
       "<Figure size 432x288 with 10 Axes>"
      ]
     },
     "metadata": {
      "needs_background": "light"
     },
     "output_type": "display_data"
    }
   ],
   "source": [
    "# -*- coding: utf-8 -*-\n",
    "\n",
    "import matplotlib.pyplot as plt\n",
    "import random\n",
    "from sklearn import datasets, tree , svm\n",
    "from sklearn.metrics import accuracy_score, confusion_matrix\n",
    "from sklearn.metrics import precision_score, recall_score, f1_score\n",
    "\n",
    "# 데이터를 읽어오기\n",
    "digits = datasets.load_digits()\n",
    "\n",
    "# 이미지를 표시함. \n",
    "for label, img in zip(digits.target[:10], digits.images[:10]):\n",
    "    plt.subplot(2, 5, label + 1)\n",
    "    plt.imshow(img, cmap=plt.cm.gray_r, interpolation='nearest')\n",
    "    plt.title('Digit: {0}'.format(label))\n",
    "plt.show()\n"
   ]
  },
  {
   "cell_type": "code",
   "execution_count": 2,
   "metadata": {
    "ExecuteTime": {
     "end_time": "2022-09-07T08:17:45.122630Z",
     "start_time": "2022-09-07T08:17:45.016349Z"
    }
   },
   "outputs": [
    {
     "name": "stdout",
     "output_type": "stream",
     "text": [
      "Accuracy:\n",
      " 0.9632721202003339\n",
      "Confusion matrix:\n",
      " [[58  0  0  0  1  0  0  0  0  0]\n",
      " [ 0 62  0  0  0  0  0  0  0  0]\n",
      " [ 0  0 59  1  0  0  0  0  0  0]\n",
      " [ 0  0  0 50  0  2  0  3  7  0]\n",
      " [ 0  0  0  0 59  0  0  0  0  3]\n",
      " [ 0  0  0  0  0 58  1  0  0  0]\n",
      " [ 0  1  0  0  0  0 60  0  0  0]\n",
      " [ 0  0  0  0  0  0  0 61  0  0]\n",
      " [ 0  1  0  0  0  0  0  0 54  0]\n",
      " [ 0  0  0  1  0  1  0  0  0 56]]\n"
     ]
    }
   ],
   "source": [
    "images = digits.images\n",
    "labels = digits.target\n",
    "\n",
    "# 차원을 하나 줄인다. \n",
    "images = images.reshape(images.shape[0], -1)\n",
    "\n",
    "#서포트 벡터머신 모델을 생성한다. \n",
    "n_samples = len(images)\n",
    "train_size = int(n_samples * 2 / 3)\n",
    "\n",
    "classifier = svm.SVC(C = 1.0, gamma = 0.001)\n",
    "classifier.fit(images[:train_size], labels[:train_size])\n",
    "\n",
    "# 모델의 성능을 확인한다. \n",
    "expected = labels[train_size:]\n",
    "predicted = classifier.predict(images[train_size:])\n",
    "\n",
    "print('Accuracy:\\n',\n",
    "      accuracy_score(expected, predicted))\n",
    "print('Confusion matrix:\\n',\n",
    "      confusion_matrix(expected, predicted))"
   ]
  },
  {
   "cell_type": "code",
   "execution_count": null,
   "metadata": {},
   "outputs": [
    {
     "ename": "",
     "evalue": "",
     "output_type": "error",
     "traceback": [
      "\u001b[1;31m커널을 시작하지 못했습니다. \n",
      "\u001b[1;31m커널 'Python 3.10.4 64-bit'을(를) 시작하지 못했습니다. \n",
      "\u001b[1;31m자세한 내용은 Jupyter <a href='command:jupyter.viewOutput'>로그</a>을 참조하세요. listen EFAULT: bad address in system call argument 127.0.0.1:9005"
     ]
    }
   ],
   "source": [
    "digits"
   ]
  },
  {
   "cell_type": "code",
   "execution_count": null,
   "metadata": {
    "collapsed": true
   },
   "outputs": [
    {
     "ename": "",
     "evalue": "",
     "output_type": "error",
     "traceback": [
      "\u001b[1;31m커널을 시작하지 못했습니다. \n",
      "\u001b[1;31m커널 'Python 3.10.4 64-bit'을(를) 시작하지 못했습니다. \n",
      "\u001b[1;31m자세한 내용은 Jupyter <a href='command:jupyter.viewOutput'>로그</a>을 참조하세요. listen EFAULT: bad address in system call argument 127.0.0.1:9005"
     ]
    }
   ],
   "source": []
  }
 ],
 "metadata": {
  "anaconda-cloud": {},
  "hide_input": false,
  "kernelspec": {
   "display_name": "Python 3 (ipykernel)",
   "language": "python",
   "name": "python3"
  },
  "language_info": {
   "codemirror_mode": {
    "name": "ipython",
    "version": 3
   },
   "file_extension": ".py",
   "mimetype": "text/x-python",
   "name": "python",
   "nbconvert_exporter": "python",
   "pygments_lexer": "ipython3",
   "version": "3.10.4"
  },
  "toc": {
   "base_numbering": 1,
   "nav_menu": {},
   "number_sections": true,
   "sideBar": true,
   "skip_h1_title": false,
   "title_cell": "Table of Contents",
   "title_sidebar": "Contents",
   "toc_cell": false,
   "toc_position": {},
   "toc_section_display": true,
   "toc_window_display": false
  },
  "vscode": {
   "interpreter": {
    "hash": "73d70afa6ea69e9144526a6a5401599dec7b759b7060f809f68e57a7e0099458"
   }
  }
 },
 "nbformat": 4,
 "nbformat_minor": 1
}
