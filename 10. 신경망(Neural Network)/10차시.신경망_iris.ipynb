{
 "cells": [
  {
   "cell_type": "code",
   "execution_count": 1,
   "metadata": {
    "ExecuteTime": {
     "end_time": "2022-10-17T04:36:21.573775Z",
     "start_time": "2022-10-17T04:36:17.254594Z"
    }
   },
   "outputs": [],
   "source": [
    "import pandas as pd\n",
    "\n",
    "# Location of dataset\n",
    "url = \"https://archive.ics.uci.edu/ml/machine-learning-databases/iris/iris.data\"\n",
    "\n",
    "# Assign colum names to the dataset\n",
    "names = ['sepal-length', 'sepal-width', 'petal-length', 'petal-width', 'Class']\n",
    "\n",
    "# Read dataset to pandas dataframe\n",
    "irisdata = pd.read_csv(url, names=names)  "
   ]
  },
  {
   "cell_type": "code",
   "execution_count": 2,
   "metadata": {
    "ExecuteTime": {
     "end_time": "2022-10-17T04:36:21.636067Z",
     "start_time": "2022-10-17T04:36:21.580775Z"
    }
   },
   "outputs": [
    {
     "data": {
      "text/html": [
       "<div>\n",
       "<style scoped>\n",
       "    .dataframe tbody tr th:only-of-type {\n",
       "        vertical-align: middle;\n",
       "    }\n",
       "\n",
       "    .dataframe tbody tr th {\n",
       "        vertical-align: top;\n",
       "    }\n",
       "\n",
       "    .dataframe thead th {\n",
       "        text-align: right;\n",
       "    }\n",
       "</style>\n",
       "<table border=\"1\" class=\"dataframe\">\n",
       "  <thead>\n",
       "    <tr style=\"text-align: right;\">\n",
       "      <th></th>\n",
       "      <th>sepal-length</th>\n",
       "      <th>sepal-width</th>\n",
       "      <th>petal-length</th>\n",
       "      <th>petal-width</th>\n",
       "      <th>Class</th>\n",
       "    </tr>\n",
       "  </thead>\n",
       "  <tbody>\n",
       "    <tr>\n",
       "      <th>0</th>\n",
       "      <td>5.1</td>\n",
       "      <td>3.5</td>\n",
       "      <td>1.4</td>\n",
       "      <td>0.2</td>\n",
       "      <td>Iris-setosa</td>\n",
       "    </tr>\n",
       "    <tr>\n",
       "      <th>1</th>\n",
       "      <td>4.9</td>\n",
       "      <td>3.0</td>\n",
       "      <td>1.4</td>\n",
       "      <td>0.2</td>\n",
       "      <td>Iris-setosa</td>\n",
       "    </tr>\n",
       "    <tr>\n",
       "      <th>2</th>\n",
       "      <td>4.7</td>\n",
       "      <td>3.2</td>\n",
       "      <td>1.3</td>\n",
       "      <td>0.2</td>\n",
       "      <td>Iris-setosa</td>\n",
       "    </tr>\n",
       "    <tr>\n",
       "      <th>3</th>\n",
       "      <td>4.6</td>\n",
       "      <td>3.1</td>\n",
       "      <td>1.5</td>\n",
       "      <td>0.2</td>\n",
       "      <td>Iris-setosa</td>\n",
       "    </tr>\n",
       "    <tr>\n",
       "      <th>4</th>\n",
       "      <td>5.0</td>\n",
       "      <td>3.6</td>\n",
       "      <td>1.4</td>\n",
       "      <td>0.2</td>\n",
       "      <td>Iris-setosa</td>\n",
       "    </tr>\n",
       "  </tbody>\n",
       "</table>\n",
       "</div>"
      ],
      "text/plain": [
       "   sepal-length  sepal-width  petal-length  petal-width        Class\n",
       "0           5.1          3.5           1.4          0.2  Iris-setosa\n",
       "1           4.9          3.0           1.4          0.2  Iris-setosa\n",
       "2           4.7          3.2           1.3          0.2  Iris-setosa\n",
       "3           4.6          3.1           1.5          0.2  Iris-setosa\n",
       "4           5.0          3.6           1.4          0.2  Iris-setosa"
      ]
     },
     "execution_count": 2,
     "metadata": {},
     "output_type": "execute_result"
    }
   ],
   "source": [
    "irisdata.head()"
   ]
  },
  {
   "cell_type": "code",
   "execution_count": 3,
   "metadata": {
    "ExecuteTime": {
     "end_time": "2022-10-17T04:36:21.651889Z",
     "start_time": "2022-10-17T04:36:21.642093Z"
    }
   },
   "outputs": [],
   "source": [
    "# Assign data from first four columns to X variable\n",
    "X = irisdata.iloc[:, 0:4]\n",
    "\n",
    "# Assign data from first fifth columns to y variable\n",
    "y = irisdata.select_dtypes(include=[object])  "
   ]
  },
  {
   "cell_type": "code",
   "execution_count": 4,
   "metadata": {
    "ExecuteTime": {
     "end_time": "2022-10-17T04:36:21.682740Z",
     "start_time": "2022-10-17T04:36:21.661320Z"
    }
   },
   "outputs": [
    {
     "data": {
      "text/html": [
       "<div>\n",
       "<style scoped>\n",
       "    .dataframe tbody tr th:only-of-type {\n",
       "        vertical-align: middle;\n",
       "    }\n",
       "\n",
       "    .dataframe tbody tr th {\n",
       "        vertical-align: top;\n",
       "    }\n",
       "\n",
       "    .dataframe thead th {\n",
       "        text-align: right;\n",
       "    }\n",
       "</style>\n",
       "<table border=\"1\" class=\"dataframe\">\n",
       "  <thead>\n",
       "    <tr style=\"text-align: right;\">\n",
       "      <th></th>\n",
       "      <th>Class</th>\n",
       "    </tr>\n",
       "  </thead>\n",
       "  <tbody>\n",
       "    <tr>\n",
       "      <th>0</th>\n",
       "      <td>Iris-setosa</td>\n",
       "    </tr>\n",
       "    <tr>\n",
       "      <th>1</th>\n",
       "      <td>Iris-setosa</td>\n",
       "    </tr>\n",
       "    <tr>\n",
       "      <th>2</th>\n",
       "      <td>Iris-setosa</td>\n",
       "    </tr>\n",
       "    <tr>\n",
       "      <th>3</th>\n",
       "      <td>Iris-setosa</td>\n",
       "    </tr>\n",
       "    <tr>\n",
       "      <th>4</th>\n",
       "      <td>Iris-setosa</td>\n",
       "    </tr>\n",
       "  </tbody>\n",
       "</table>\n",
       "</div>"
      ],
      "text/plain": [
       "         Class\n",
       "0  Iris-setosa\n",
       "1  Iris-setosa\n",
       "2  Iris-setosa\n",
       "3  Iris-setosa\n",
       "4  Iris-setosa"
      ]
     },
     "execution_count": 4,
     "metadata": {},
     "output_type": "execute_result"
    }
   ],
   "source": [
    "y.head()"
   ]
  },
  {
   "cell_type": "code",
   "execution_count": 5,
   "metadata": {
    "ExecuteTime": {
     "end_time": "2022-10-17T04:36:21.714435Z",
     "start_time": "2022-10-17T04:36:21.687315Z"
    }
   },
   "outputs": [
    {
     "data": {
      "text/html": [
       "<div>\n",
       "<style scoped>\n",
       "    .dataframe tbody tr th:only-of-type {\n",
       "        vertical-align: middle;\n",
       "    }\n",
       "\n",
       "    .dataframe tbody tr th {\n",
       "        vertical-align: top;\n",
       "    }\n",
       "\n",
       "    .dataframe thead th {\n",
       "        text-align: right;\n",
       "    }\n",
       "</style>\n",
       "<table border=\"1\" class=\"dataframe\">\n",
       "  <thead>\n",
       "    <tr style=\"text-align: right;\">\n",
       "      <th></th>\n",
       "      <th>sepal-length</th>\n",
       "      <th>sepal-width</th>\n",
       "      <th>petal-length</th>\n",
       "      <th>petal-width</th>\n",
       "    </tr>\n",
       "  </thead>\n",
       "  <tbody>\n",
       "    <tr>\n",
       "      <th>0</th>\n",
       "      <td>5.1</td>\n",
       "      <td>3.5</td>\n",
       "      <td>1.4</td>\n",
       "      <td>0.2</td>\n",
       "    </tr>\n",
       "    <tr>\n",
       "      <th>1</th>\n",
       "      <td>4.9</td>\n",
       "      <td>3.0</td>\n",
       "      <td>1.4</td>\n",
       "      <td>0.2</td>\n",
       "    </tr>\n",
       "    <tr>\n",
       "      <th>2</th>\n",
       "      <td>4.7</td>\n",
       "      <td>3.2</td>\n",
       "      <td>1.3</td>\n",
       "      <td>0.2</td>\n",
       "    </tr>\n",
       "    <tr>\n",
       "      <th>3</th>\n",
       "      <td>4.6</td>\n",
       "      <td>3.1</td>\n",
       "      <td>1.5</td>\n",
       "      <td>0.2</td>\n",
       "    </tr>\n",
       "    <tr>\n",
       "      <th>4</th>\n",
       "      <td>5.0</td>\n",
       "      <td>3.6</td>\n",
       "      <td>1.4</td>\n",
       "      <td>0.2</td>\n",
       "    </tr>\n",
       "  </tbody>\n",
       "</table>\n",
       "</div>"
      ],
      "text/plain": [
       "   sepal-length  sepal-width  petal-length  petal-width\n",
       "0           5.1          3.5           1.4          0.2\n",
       "1           4.9          3.0           1.4          0.2\n",
       "2           4.7          3.2           1.3          0.2\n",
       "3           4.6          3.1           1.5          0.2\n",
       "4           5.0          3.6           1.4          0.2"
      ]
     },
     "execution_count": 5,
     "metadata": {},
     "output_type": "execute_result"
    }
   ],
   "source": [
    "X.head()"
   ]
  },
  {
   "cell_type": "code",
   "execution_count": 6,
   "metadata": {
    "ExecuteTime": {
     "end_time": "2022-10-17T04:36:21.745103Z",
     "start_time": "2022-10-17T04:36:21.719658Z"
    }
   },
   "outputs": [
    {
     "data": {
      "text/plain": [
       "array(['Iris-setosa', 'Iris-versicolor', 'Iris-virginica'], dtype=object)"
      ]
     },
     "execution_count": 6,
     "metadata": {},
     "output_type": "execute_result"
    }
   ],
   "source": [
    "y.Class.unique()  "
   ]
  },
  {
   "cell_type": "code",
   "execution_count": 7,
   "metadata": {
    "ExecuteTime": {
     "end_time": "2022-10-17T04:36:27.706062Z",
     "start_time": "2022-10-17T04:36:21.751136Z"
    }
   },
   "outputs": [],
   "source": [
    "from sklearn import preprocessing  \n",
    "le = preprocessing.LabelEncoder()\n",
    "\n",
    "y = y.apply(le.fit_transform)  "
   ]
  },
  {
   "cell_type": "code",
   "execution_count": 8,
   "metadata": {
    "ExecuteTime": {
     "end_time": "2022-10-17T04:36:27.737358Z",
     "start_time": "2022-10-17T04:36:27.712290Z"
    },
    "scrolled": true
   },
   "outputs": [
    {
     "data": {
      "text/html": [
       "<div>\n",
       "<style scoped>\n",
       "    .dataframe tbody tr th:only-of-type {\n",
       "        vertical-align: middle;\n",
       "    }\n",
       "\n",
       "    .dataframe tbody tr th {\n",
       "        vertical-align: top;\n",
       "    }\n",
       "\n",
       "    .dataframe thead th {\n",
       "        text-align: right;\n",
       "    }\n",
       "</style>\n",
       "<table border=\"1\" class=\"dataframe\">\n",
       "  <thead>\n",
       "    <tr style=\"text-align: right;\">\n",
       "      <th></th>\n",
       "      <th>Class</th>\n",
       "    </tr>\n",
       "  </thead>\n",
       "  <tbody>\n",
       "    <tr>\n",
       "      <th>0</th>\n",
       "      <td>0</td>\n",
       "    </tr>\n",
       "    <tr>\n",
       "      <th>1</th>\n",
       "      <td>0</td>\n",
       "    </tr>\n",
       "    <tr>\n",
       "      <th>2</th>\n",
       "      <td>0</td>\n",
       "    </tr>\n",
       "    <tr>\n",
       "      <th>3</th>\n",
       "      <td>0</td>\n",
       "    </tr>\n",
       "    <tr>\n",
       "      <th>4</th>\n",
       "      <td>0</td>\n",
       "    </tr>\n",
       "    <tr>\n",
       "      <th>...</th>\n",
       "      <td>...</td>\n",
       "    </tr>\n",
       "    <tr>\n",
       "      <th>145</th>\n",
       "      <td>2</td>\n",
       "    </tr>\n",
       "    <tr>\n",
       "      <th>146</th>\n",
       "      <td>2</td>\n",
       "    </tr>\n",
       "    <tr>\n",
       "      <th>147</th>\n",
       "      <td>2</td>\n",
       "    </tr>\n",
       "    <tr>\n",
       "      <th>148</th>\n",
       "      <td>2</td>\n",
       "    </tr>\n",
       "    <tr>\n",
       "      <th>149</th>\n",
       "      <td>2</td>\n",
       "    </tr>\n",
       "  </tbody>\n",
       "</table>\n",
       "<p>150 rows × 1 columns</p>\n",
       "</div>"
      ],
      "text/plain": [
       "     Class\n",
       "0        0\n",
       "1        0\n",
       "2        0\n",
       "3        0\n",
       "4        0\n",
       "..     ...\n",
       "145      2\n",
       "146      2\n",
       "147      2\n",
       "148      2\n",
       "149      2\n",
       "\n",
       "[150 rows x 1 columns]"
      ]
     },
     "execution_count": 8,
     "metadata": {},
     "output_type": "execute_result"
    }
   ],
   "source": [
    "y"
   ]
  },
  {
   "cell_type": "code",
   "execution_count": 9,
   "metadata": {
    "ExecuteTime": {
     "end_time": "2022-10-17T04:36:28.160337Z",
     "start_time": "2022-10-17T04:36:27.743352Z"
    }
   },
   "outputs": [],
   "source": [
    "from sklearn.model_selection import train_test_split  \n",
    "X_train, X_test, y_train, y_test = train_test_split(X, y, test_size = 0.20)  "
   ]
  },
  {
   "cell_type": "code",
   "execution_count": 10,
   "metadata": {
    "ExecuteTime": {
     "end_time": "2022-10-17T04:36:28.192275Z",
     "start_time": "2022-10-17T04:36:28.171339Z"
    }
   },
   "outputs": [],
   "source": [
    "from sklearn.preprocessing import StandardScaler  \n",
    "scaler = StandardScaler()  \n",
    "scaler.fit(X_train)\n",
    "\n",
    "X_train = scaler.transform(X_train)  \n",
    "X_test = scaler.transform(X_test)  "
   ]
  },
  {
   "cell_type": "code",
   "execution_count": 11,
   "metadata": {
    "ExecuteTime": {
     "end_time": "2022-10-17T04:36:28.222655Z",
     "start_time": "2022-10-17T04:36:28.198497Z"
    },
    "scrolled": true
   },
   "outputs": [
    {
     "data": {
      "text/plain": [
       "array([[-0.54441979, -0.13909189,  0.39053965,  0.33434235],\n",
       "       [-1.14598862, -1.63381066, -0.28620775, -0.30862371],\n",
       "       [-0.18347849, -1.38469087,  0.67251773,  0.97730842],\n",
       "       [ 0.5384041 ,  0.6082675 ,  0.50333088,  0.46293557],\n",
       "       [-1.38661616,  0.35914771, -1.41412009, -1.33736941],\n",
       "       [ 2.22279683,  1.85386648,  1.63124321,  1.23449484],\n",
       "       [-1.02567486,  1.1065071 , -1.24493324, -0.82299656],\n",
       "       [-1.74755746, -0.38821168, -1.35772447, -1.33736941],\n",
       "       [ 0.5384041 ,  0.6082675 ,  1.2364739 ,  1.62027448],\n",
       "       [ 2.22279683, -1.13557107,  1.74403445,  1.36308805],\n",
       "       [-0.42410603, -1.88293046,  0.10856156,  0.07715593],\n",
       "       [-1.14598862,  0.11002791, -1.30132885, -1.46596262],\n",
       "       [ 1.01965917, -1.38469087,  1.12368266,  0.72012199],\n",
       "       [-0.42410603, -1.38469087,  0.10856156,  0.07715593],\n",
       "       [ 0.5384041 , -1.38469087,  0.61612211,  0.33434235],\n",
       "       [-0.90536109,  1.85386648, -1.30132885, -1.2087762 ],\n",
       "       [-1.50692992,  0.8573873 , -1.35772447, -1.2087762 ],\n",
       "       [-0.06316473,  2.35210608, -1.4705157 , -1.33736941],\n",
       "       [-0.06316473, -0.88645128,  0.72891335,  0.8487152 ],\n",
       "       [-1.50692992,  0.11002791, -1.30132885, -1.33736941],\n",
       "       [ 1.2602867 ,  0.11002791,  0.61612211,  0.33434235],\n",
       "       [-0.30379226, -1.38469087,  0.05216595, -0.1800305 ],\n",
       "       [ 0.17746281, -0.38821168,  0.39053965,  0.33434235],\n",
       "       [-0.54441979,  0.8573873 , -1.18853762, -1.33736941],\n",
       "       [ 1.38060047,  0.35914771,  0.50333088,  0.20574914],\n",
       "       [ 1.01965917,  0.6082675 ,  1.06728705,  1.62027448],\n",
       "       [-0.90536109,  1.85386648, -1.24493324, -1.33736941],\n",
       "       [ 0.29777657, -0.13909189,  0.44693526,  0.20574914],\n",
       "       [-1.02567486,  0.8573873 , -1.24493324, -1.08018299],\n",
       "       [-0.90536109,  0.8573873 , -1.30132885, -1.33736941],\n",
       "       [ 1.01965917, -0.13909189,  0.67251773,  0.59152878],\n",
       "       [-1.14598862,  0.11002791, -1.30132885, -1.46596262],\n",
       "       [-0.54441979,  2.10298628, -1.41412009, -1.08018299],\n",
       "       [ 1.621228  , -0.13909189,  1.12368266,  0.46293557],\n",
       "       [-1.74755746, -0.13909189, -1.41412009, -1.33736941],\n",
       "       [-1.26630239, -0.13909189, -1.35772447, -1.2087762 ],\n",
       "       [ 1.01965917, -0.13909189,  0.78530896,  1.36308805],\n",
       "       [-1.02567486,  0.35914771, -1.4705157 , -1.33736941],\n",
       "       [ 2.10248307, -0.13909189,  1.5748476 ,  1.10590163],\n",
       "       [-0.90536109, -1.38469087, -0.4553946 , -0.1800305 ],\n",
       "       [-1.74755746,  0.35914771, -1.41412009, -1.33736941],\n",
       "       [-0.42410603,  1.1065071 , -1.41412009, -1.33736941],\n",
       "       [ 0.41809034, -2.13205026,  0.39053965,  0.33434235],\n",
       "       [ 0.65871787, -0.63733148,  1.01089143,  1.10590163],\n",
       "       [-0.90536109,  0.6082675 , -1.18853762, -0.95158977],\n",
       "       [-1.02567486,  0.6082675 , -1.35772447, -1.33736941],\n",
       "       [ 0.29777657, -0.63733148,  0.10856156,  0.07715593],\n",
       "       [-0.30379226, -0.13909189,  0.16495718,  0.07715593],\n",
       "       [-1.02567486, -0.13909189, -1.24493324, -1.33736941],\n",
       "       [-0.90536109,  1.60474669, -1.30132885, -1.08018299],\n",
       "       [ 2.22279683, -0.63733148,  1.63124321,  0.97730842],\n",
       "       [ 0.5384041 , -0.38821168,  1.01089143,  0.72012199],\n",
       "       [-0.90536109,  1.1065071 , -1.35772447, -1.33736941],\n",
       "       [ 0.41809034, -0.38821168,  0.27774841,  0.07715593],\n",
       "       [ 1.2602867 ,  0.11002791,  0.72891335,  1.36308805],\n",
       "       [-0.18347849,  1.85386648, -1.18853762, -1.2087762 ],\n",
       "       [ 0.65871787,  0.35914771,  0.84170458,  1.36308805],\n",
       "       [ 0.77903164, -0.63733148,  0.44693526,  0.33434235],\n",
       "       [ 0.29777657, -1.13557107,  1.01089143,  0.20574914],\n",
       "       [-1.50692992,  0.35914771, -1.35772447, -1.33736941],\n",
       "       [ 0.5384041 ,  0.8573873 ,  1.01089143,  1.49168127],\n",
       "       [-0.30379226, -0.88645128,  0.2213528 ,  0.07715593],\n",
       "       [ 1.2602867 ,  0.35914771,  1.06728705,  1.36308805],\n",
       "       [ 1.2602867 ,  0.11002791,  0.8981002 ,  1.10590163],\n",
       "       [-1.26630239,  0.8573873 , -1.24493324, -1.33736941],\n",
       "       [-1.02567486, -1.88293046, -0.28620775, -0.30862371],\n",
       "       [ 0.77903164, -0.13909189,  0.95449581,  0.72012199],\n",
       "       [-0.06316473, -0.63733148,  0.72891335,  1.49168127],\n",
       "       [ 0.41809034, -0.63733148,  0.5597265 ,  0.72012199],\n",
       "       [ 0.65871787, -0.88645128,  0.84170458,  0.8487152 ],\n",
       "       [ 0.65871787, -0.63733148,  1.01089143,  1.23449484],\n",
       "       [-0.30379226, -0.13909189,  0.39053965,  0.33434235],\n",
       "       [ 0.29777657, -0.38821168,  0.50333088,  0.20574914],\n",
       "       [-0.18347849, -0.13909189,  0.2213528 , -0.05143729],\n",
       "       [ 2.22279683, -0.13909189,  1.29286951,  1.36308805],\n",
       "       [ 0.8993454 , -0.13909189,  0.33414403,  0.20574914],\n",
       "       [-0.90536109,  1.85386648, -1.07574639, -1.08018299],\n",
       "       [ 0.5384041 , -1.38469087,  0.67251773,  0.8487152 ],\n",
       "       [-1.02567486,  1.1065071 , -1.41412009, -1.2087762 ],\n",
       "       [-0.06316473, -1.13557107,  0.10856156, -0.05143729],\n",
       "       [ 0.05714904, -0.13909189,  0.2213528 ,  0.33434235],\n",
       "       [ 0.5384041 , -0.63733148,  0.72891335,  0.33434235],\n",
       "       [ 0.41809034,  0.8573873 ,  0.8981002 ,  1.36308805],\n",
       "       [-0.18347849, -0.63733148,  0.39053965,  0.07715593],\n",
       "       [-0.78504733,  2.60122587, -1.30132885, -1.46596262],\n",
       "       [-1.50692992,  1.35562689, -1.58330694, -1.33736941],\n",
       "       [ 0.05714904,  0.35914771,  0.5597265 ,  0.72012199],\n",
       "       [-1.14598862, -0.13909189, -1.35772447, -1.33736941],\n",
       "       [ 0.5384041 , -0.88645128,  0.61612211,  0.72012199],\n",
       "       [ 0.8993454 , -0.38821168,  0.44693526,  0.07715593],\n",
       "       [-0.90536109,  1.1065071 , -1.35772447, -1.2087762 ],\n",
       "       [ 0.77903164,  0.35914771,  0.72891335,  0.97730842],\n",
       "       [-0.54441979,  0.8573873 , -1.30132885, -1.08018299],\n",
       "       [ 0.05714904, -0.13909189,  0.72891335,  0.72012199],\n",
       "       [-0.30379226, -0.38821168, -0.1170209 ,  0.07715593],\n",
       "       [-0.42410603, -1.63381066, -0.00422967, -0.1800305 ],\n",
       "       [ 1.01965917,  0.11002791,  1.01089143,  1.49168127],\n",
       "       [-0.54441979,  1.60474669, -1.30132885, -1.33736941],\n",
       "       [ 0.17746281, -2.13205026,  0.10856156, -0.30862371],\n",
       "       [-0.54441979,  2.10298628, -1.18853762, -1.08018299],\n",
       "       [ 0.17746281, -0.88645128,  0.72891335,  0.46293557],\n",
       "       [-0.30379226, -0.63733148,  0.61612211,  0.97730842],\n",
       "       [-1.26630239, -0.13909189, -1.35772447, -1.46596262],\n",
       "       [-0.06316473, -0.88645128,  0.16495718, -0.30862371],\n",
       "       [ 1.01965917,  0.6082675 ,  1.06728705,  1.10590163],\n",
       "       [ 1.13997294,  0.35914771,  1.18007828,  1.36308805],\n",
       "       [ 1.13997294, -0.13909189,  0.95449581,  1.10590163],\n",
       "       [-0.18347849, -0.63733148,  0.16495718,  0.07715593],\n",
       "       [-1.14598862,  0.11002791, -1.30132885, -1.46596262],\n",
       "       [ 0.65871787, -0.38821168,  0.27774841,  0.07715593],\n",
       "       [-0.18347849, -0.38821168,  0.2213528 ,  0.07715593],\n",
       "       [ 0.65871787,  0.11002791,  0.95449581,  0.72012199],\n",
       "       [-1.14598862, -1.38469087,  0.39053965,  0.59152878],\n",
       "       [ 2.46342437,  1.85386648,  1.46205636,  0.97730842],\n",
       "       [ 0.77903164, -0.13909189,  0.78530896,  0.97730842],\n",
       "       [-0.18347849, -1.13557107, -0.17341652, -0.30862371],\n",
       "       [-1.86787122, -0.13909189, -1.52691132, -1.46596262],\n",
       "       [ 1.50091424, -0.13909189,  1.18007828,  1.10590163],\n",
       "       [ 1.621228  ,  1.35562689,  1.29286951,  1.62027448],\n",
       "       [-0.06316473, -0.88645128,  0.72891335,  0.8487152 ]])"
      ]
     },
     "execution_count": 11,
     "metadata": {},
     "output_type": "execute_result"
    }
   ],
   "source": [
    "X_train"
   ]
  },
  {
   "cell_type": "code",
   "execution_count": 12,
   "metadata": {
    "ExecuteTime": {
     "end_time": "2022-10-17T04:36:28.254338Z",
     "start_time": "2022-10-17T04:36:28.229692Z"
    }
   },
   "outputs": [
    {
     "data": {
      "text/plain": [
       "array([[-0.42410603, -1.13557107,  0.33414403, -0.05143729],\n",
       "       [ 0.65871787,  0.35914771,  0.39053965,  0.33434235],\n",
       "       [ 1.621228  ,  0.35914771,  1.2364739 ,  0.72012199],\n",
       "       [-1.38661616,  0.35914771, -1.24493324, -1.33736941],\n",
       "       [-1.62724369, -1.88293046, -1.41412009, -1.2087762 ],\n",
       "       [-0.78504733,  0.8573873 , -1.35772447, -1.33736941],\n",
       "       [-0.78504733,  1.1065071 , -1.30132885, -1.33736941],\n",
       "       [-1.02567486,  1.35562689, -1.35772447, -1.33736941],\n",
       "       [-1.02567486,  0.8573873 , -1.30132885, -1.33736941],\n",
       "       [ 1.86185553, -0.63733148,  1.29286951,  0.8487152 ],\n",
       "       [ 0.17746281, -0.13909189,  0.5597265 ,  0.72012199],\n",
       "       [-0.42410603, -1.63381066, -0.06062529, -0.30862371],\n",
       "       [ 0.29777657, -0.13909189,  0.61612211,  0.72012199],\n",
       "       [ 1.01965917,  0.11002791,  0.33414403,  0.20574914],\n",
       "       [ 0.17746281, -2.13205026,  0.67251773,  0.33434235],\n",
       "       [-0.42410603,  2.85034567, -1.35772447, -1.33736941],\n",
       "       [-0.18347849,  3.34858526, -1.30132885, -1.08018299],\n",
       "       [ 1.13997294, -0.63733148,  0.5597265 ,  0.20574914],\n",
       "       [ 0.5384041 , -1.88293046,  0.33414403,  0.07715593],\n",
       "       [-1.26630239,  0.8573873 , -1.07574639, -1.33736941],\n",
       "       [-0.78504733, -0.88645128,  0.05216595,  0.20574914],\n",
       "       [ 0.29777657, -0.63733148,  0.50333088, -0.05143729],\n",
       "       [ 1.74154177, -0.38821168,  1.40566075,  0.72012199],\n",
       "       [ 0.17746281,  0.8573873 ,  0.39053965,  0.46293557],\n",
       "       [-1.02567486, -2.63028985, -0.17341652, -0.30862371],\n",
       "       [-1.26630239,  0.11002791, -1.24493324, -1.33736941],\n",
       "       [ 1.01965917,  0.11002791,  0.50333088,  0.33434235],\n",
       "       [ 0.77903164, -0.13909189,  1.12368266,  1.23449484],\n",
       "       [-0.66473356,  1.60474669, -1.30132885, -1.33736941],\n",
       "       [-0.06316473, -0.88645128,  0.05216595, -0.05143729]])"
      ]
     },
     "execution_count": 12,
     "metadata": {},
     "output_type": "execute_result"
    }
   ],
   "source": [
    "X_test"
   ]
  },
  {
   "cell_type": "code",
   "execution_count": 13,
   "metadata": {
    "ExecuteTime": {
     "end_time": "2022-10-17T04:36:28.850474Z",
     "start_time": "2022-10-17T04:36:28.260718Z"
    }
   },
   "outputs": [
    {
     "data": {
      "text/html": [
       "<style>#sk-container-id-1 {color: black;background-color: white;}#sk-container-id-1 pre{padding: 0;}#sk-container-id-1 div.sk-toggleable {background-color: white;}#sk-container-id-1 label.sk-toggleable__label {cursor: pointer;display: block;width: 100%;margin-bottom: 0;padding: 0.3em;box-sizing: border-box;text-align: center;}#sk-container-id-1 label.sk-toggleable__label-arrow:before {content: \"▸\";float: left;margin-right: 0.25em;color: #696969;}#sk-container-id-1 label.sk-toggleable__label-arrow:hover:before {color: black;}#sk-container-id-1 div.sk-estimator:hover label.sk-toggleable__label-arrow:before {color: black;}#sk-container-id-1 div.sk-toggleable__content {max-height: 0;max-width: 0;overflow: hidden;text-align: left;background-color: #f0f8ff;}#sk-container-id-1 div.sk-toggleable__content pre {margin: 0.2em;color: black;border-radius: 0.25em;background-color: #f0f8ff;}#sk-container-id-1 input.sk-toggleable__control:checked~div.sk-toggleable__content {max-height: 200px;max-width: 100%;overflow: auto;}#sk-container-id-1 input.sk-toggleable__control:checked~label.sk-toggleable__label-arrow:before {content: \"▾\";}#sk-container-id-1 div.sk-estimator input.sk-toggleable__control:checked~label.sk-toggleable__label {background-color: #d4ebff;}#sk-container-id-1 div.sk-label input.sk-toggleable__control:checked~label.sk-toggleable__label {background-color: #d4ebff;}#sk-container-id-1 input.sk-hidden--visually {border: 0;clip: rect(1px 1px 1px 1px);clip: rect(1px, 1px, 1px, 1px);height: 1px;margin: -1px;overflow: hidden;padding: 0;position: absolute;width: 1px;}#sk-container-id-1 div.sk-estimator {font-family: monospace;background-color: #f0f8ff;border: 1px dotted black;border-radius: 0.25em;box-sizing: border-box;margin-bottom: 0.5em;}#sk-container-id-1 div.sk-estimator:hover {background-color: #d4ebff;}#sk-container-id-1 div.sk-parallel-item::after {content: \"\";width: 100%;border-bottom: 1px solid gray;flex-grow: 1;}#sk-container-id-1 div.sk-label:hover label.sk-toggleable__label {background-color: #d4ebff;}#sk-container-id-1 div.sk-serial::before {content: \"\";position: absolute;border-left: 1px solid gray;box-sizing: border-box;top: 0;bottom: 0;left: 50%;z-index: 0;}#sk-container-id-1 div.sk-serial {display: flex;flex-direction: column;align-items: center;background-color: white;padding-right: 0.2em;padding-left: 0.2em;position: relative;}#sk-container-id-1 div.sk-item {position: relative;z-index: 1;}#sk-container-id-1 div.sk-parallel {display: flex;align-items: stretch;justify-content: center;background-color: white;position: relative;}#sk-container-id-1 div.sk-item::before, #sk-container-id-1 div.sk-parallel-item::before {content: \"\";position: absolute;border-left: 1px solid gray;box-sizing: border-box;top: 0;bottom: 0;left: 50%;z-index: -1;}#sk-container-id-1 div.sk-parallel-item {display: flex;flex-direction: column;z-index: 1;position: relative;background-color: white;}#sk-container-id-1 div.sk-parallel-item:first-child::after {align-self: flex-end;width: 50%;}#sk-container-id-1 div.sk-parallel-item:last-child::after {align-self: flex-start;width: 50%;}#sk-container-id-1 div.sk-parallel-item:only-child::after {width: 0;}#sk-container-id-1 div.sk-dashed-wrapped {border: 1px dashed gray;margin: 0 0.4em 0.5em 0.4em;box-sizing: border-box;padding-bottom: 0.4em;background-color: white;}#sk-container-id-1 div.sk-label label {font-family: monospace;font-weight: bold;display: inline-block;line-height: 1.2em;}#sk-container-id-1 div.sk-label-container {text-align: center;}#sk-container-id-1 div.sk-container {/* jupyter's `normalize.less` sets `[hidden] { display: none; }` but bootstrap.min.css set `[hidden] { display: none !important; }` so we also need the `!important` here to be able to override the default hidden behavior on the sphinx rendered scikit-learn.org. See: https://github.com/scikit-learn/scikit-learn/issues/21755 */display: inline-block !important;position: relative;}#sk-container-id-1 div.sk-text-repr-fallback {display: none;}</style><div id=\"sk-container-id-1\" class=\"sk-top-container\"><div class=\"sk-text-repr-fallback\"><pre>MLPClassifier(hidden_layer_sizes=(10, 10, 10), max_iter=1000)</pre><b>In a Jupyter environment, please rerun this cell to show the HTML representation or trust the notebook. <br />On GitHub, the HTML representation is unable to render, please try loading this page with nbviewer.org.</b></div><div class=\"sk-container\" hidden><div class=\"sk-item\"><div class=\"sk-estimator sk-toggleable\"><input class=\"sk-toggleable__control sk-hidden--visually\" id=\"sk-estimator-id-1\" type=\"checkbox\" checked><label for=\"sk-estimator-id-1\" class=\"sk-toggleable__label sk-toggleable__label-arrow\">MLPClassifier</label><div class=\"sk-toggleable__content\"><pre>MLPClassifier(hidden_layer_sizes=(10, 10, 10), max_iter=1000)</pre></div></div></div></div></div>"
      ],
      "text/plain": [
       "MLPClassifier(hidden_layer_sizes=(10, 10, 10), max_iter=1000)"
      ]
     },
     "execution_count": 13,
     "metadata": {},
     "output_type": "execute_result"
    }
   ],
   "source": [
    "from sklearn.neural_network import MLPClassifier  # Multi Layer Perceptron\n",
    "mlp = MLPClassifier(hidden_layer_sizes=(10, 10, 10), max_iter=1000)  # layer 3개 , 반복학습 1000번\n",
    "mlp.fit(X_train, y_train.values.ravel()) #y_train값은 행렬이어서 벡터로 바꿔줌 "
   ]
  },
  {
   "cell_type": "code",
   "execution_count": 14,
   "metadata": {
    "ExecuteTime": {
     "end_time": "2022-10-17T04:36:28.881782Z",
     "start_time": "2022-10-17T04:36:28.859016Z"
    }
   },
   "outputs": [
    {
     "data": {
      "text/plain": [
       "array([1, 1, 2, 1, 0, 2, 0, 0, 2, 2, 1, 0, 2, 1, 1, 0, 0, 0, 2, 0, 1, 1,\n",
       "       1, 0, 1, 2, 0, 1, 0, 0, 1, 0, 0, 2, 0, 0, 2, 0, 2, 1, 0, 0, 1, 2,\n",
       "       0, 0, 1, 1, 0, 0, 2, 2, 0, 1, 2, 0, 2, 1, 2, 0, 2, 1, 2, 2, 0, 1,\n",
       "       2, 2, 2, 2, 2, 1, 1, 1, 2, 1, 0, 2, 0, 1, 1, 2, 2, 1, 0, 0, 1, 0,\n",
       "       2, 1, 0, 2, 0, 2, 1, 1, 2, 0, 1, 0, 1, 2, 0, 1, 2, 2, 2, 1, 0, 1,\n",
       "       1, 2, 2, 2, 2, 1, 0, 2, 2, 2])"
      ]
     },
     "execution_count": 14,
     "metadata": {},
     "output_type": "execute_result"
    }
   ],
   "source": [
    "y_train.values.ravel()"
   ]
  },
  {
   "cell_type": "code",
   "execution_count": 15,
   "metadata": {
    "ExecuteTime": {
     "end_time": "2022-10-17T04:36:28.912722Z",
     "start_time": "2022-10-17T04:36:28.888654Z"
    }
   },
   "outputs": [
    {
     "data": {
      "text/plain": [
       "array([1, 1, 2, 0, 1, 0, 0, 0, 0, 2, 2, 1, 2, 1, 2, 0, 0, 1, 1, 0, 1, 1,\n",
       "       2, 1, 1, 0, 1, 2, 0, 1])"
      ]
     },
     "execution_count": 15,
     "metadata": {},
     "output_type": "execute_result"
    }
   ],
   "source": [
    "predictions = mlp.predict(X_test)  \n",
    "predictions"
   ]
  },
  {
   "cell_type": "code",
   "execution_count": 16,
   "metadata": {
    "ExecuteTime": {
     "end_time": "2022-10-17T04:36:28.943284Z",
     "start_time": "2022-10-17T04:36:28.917842Z"
    }
   },
   "outputs": [
    {
     "name": "stdout",
     "output_type": "stream",
     "text": [
      "[[10  1  0]\n",
      " [ 0 12  0]\n",
      " [ 0  0  7]]\n",
      "              precision    recall  f1-score   support\n",
      "\n",
      "           0       1.00      0.91      0.95        11\n",
      "           1       0.92      1.00      0.96        12\n",
      "           2       1.00      1.00      1.00         7\n",
      "\n",
      "    accuracy                           0.97        30\n",
      "   macro avg       0.97      0.97      0.97        30\n",
      "weighted avg       0.97      0.97      0.97        30\n",
      "\n"
     ]
    }
   ],
   "source": [
    "from sklearn.metrics import classification_report, confusion_matrix  \n",
    "print(confusion_matrix(y_test,predictions))  \n",
    "print(classification_report(y_test,predictions))  "
   ]
  }
 ],
 "metadata": {
  "anaconda-cloud": {},
  "hide_input": false,
  "kernelspec": {
   "display_name": "Python 3 (ipykernel)",
   "language": "python",
   "name": "python3"
  },
  "language_info": {
   "codemirror_mode": {
    "name": "ipython",
    "version": 3
   },
   "file_extension": ".py",
   "mimetype": "text/x-python",
   "name": "python",
   "nbconvert_exporter": "python",
   "pygments_lexer": "ipython3",
   "version": "3.10.4"
  },
  "toc": {
   "base_numbering": 1,
   "nav_menu": {},
   "number_sections": true,
   "sideBar": true,
   "skip_h1_title": false,
   "title_cell": "Table of Contents",
   "title_sidebar": "Contents",
   "toc_cell": false,
   "toc_position": {},
   "toc_section_display": true,
   "toc_window_display": false
  },
  "vscode": {
   "interpreter": {
    "hash": "73d70afa6ea69e9144526a6a5401599dec7b759b7060f809f68e57a7e0099458"
   }
  }
 },
 "nbformat": 4,
 "nbformat_minor": 1
}
