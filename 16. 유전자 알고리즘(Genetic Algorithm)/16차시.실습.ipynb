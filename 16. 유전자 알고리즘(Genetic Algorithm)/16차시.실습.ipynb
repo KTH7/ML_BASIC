{
 "cells": [
  {
   "cell_type": "code",
   "execution_count": 1,
   "metadata": {},
   "outputs": [],
   "source": [
    "import random\n",
    "# 2개의 유전자와 domain 정의\n",
    "vec1=[1,1,9,13,3,7,2,5,1,6,7,1,2,4,1,2,1,0]\n",
    "vec2=[8,10,3,1,5,10,5,3,0,0,5,2,0,1,1,0,0,0]\n",
    "\n",
    "domain=[(0,17),(0,16),(0,15),(0,14),(0,13),(0,12),(0,11),(0,10),(0,9),(0,8),(0,7),(0,6),(0,5),(0,4),(0,3),(0,2),(0,1),(0,0)]"
   ]
  },
  {
   "cell_type": "code",
   "execution_count": null,
   "metadata": {},
   "outputs": [],
   "source": [
    "# 교차연산(교배) & 변이연산(돌연변이)\n",
    "#변이는 +1 또는 -1"
   ]
  },
  {
   "cell_type": "code",
   "execution_count": 10,
   "metadata": {},
   "outputs": [],
   "source": [
    "#교차연산 함수\n",
    "def crossover(r1,r2):\n",
    "    i=random.randint(1,len(vec1)-1)\n",
    "    return r1[0:i]+r2[i:]"
   ]
  },
  {
   "cell_type": "code",
   "execution_count": 17,
   "metadata": {},
   "outputs": [
    {
     "data": {
      "text/plain": [
       "[1, 1, 9, 1, 5, 10, 5, 3, 0, 0, 5, 2, 0, 1, 1, 0, 0, 0]"
      ]
     },
     "execution_count": 17,
     "metadata": {},
     "output_type": "execute_result"
    }
   ],
   "source": [
    "vec3=crossover(vec1,vec2)\n",
    "vec3"
   ]
  },
  {
   "cell_type": "code",
   "execution_count": 18,
   "metadata": {},
   "outputs": [],
   "source": [
    "#변이연산\n",
    "step=1\n",
    "def mutate(vec):\n",
    "    i=random.randint(0,len(vec1)-1)\n",
    "    \n",
    "    if random.random()<0.5 and vec[i]-step>domain[i][0]:\n",
    "        return vec[0:i]+[vec[i]-step]+vec[i+1:]\n",
    "    elif vec[i]+step<domain[i][1]:\n",
    "        return vec[0:i]+[vec[i]+step]+vec[i+1:]\n",
    "    else:\n",
    "        return vec"
   ]
  },
  {
   "cell_type": "code",
   "execution_count": 19,
   "metadata": {},
   "outputs": [
    {
     "data": {
      "text/plain": [
       "[1, 1, 10, 1, 5, 10, 5, 3, 0, 0, 5, 2, 0, 1, 1, 0, 0, 0]"
      ]
     },
     "execution_count": 19,
     "metadata": {},
     "output_type": "execute_result"
    }
   ],
   "source": [
    "mutate(vec3)"
   ]
  },
  {
   "cell_type": "code",
   "execution_count": 20,
   "metadata": {},
   "outputs": [
    {
     "name": "stdout",
     "output_type": "stream",
     "text": [
      "1 [1, 10, 3, 1, 5, 10, 5, 3, 0, 0, 5, 2, 0, 1, 1, 0, 0, 0] [2, 10, 3, 1, 5, 10, 5, 3, 0, 0, 5, 2, 0, 1, 1, 0, 0, 0]\n",
      "2 [1, 1, 3, 1, 5, 10, 5, 3, 0, 0, 5, 2, 0, 1, 1, 0, 0, 0] [1, 1, 3, 1, 5, 10, 5, 3, 0, 0, 5, 2, 0, 1, 1, 0, 0, 0]\n",
      "3 [1, 1, 9, 13, 3, 7, 2, 5, 1, 6, 7, 1, 2, 4, 1, 0, 0, 0] [1, 1, 9, 13, 3, 7, 2, 5, 1, 6, 7, 1, 2, 4, 1, 0, 0, 0]\n",
      "4 [1, 1, 9, 13, 3, 7, 2, 5, 1, 6, 7, 1, 2, 1, 1, 0, 0, 0] [1, 1, 9, 13, 3, 7, 2, 5, 1, 6, 7, 1, 2, 2, 1, 0, 0, 0]\n",
      "5 [1, 1, 9, 13, 3, 10, 5, 3, 0, 0, 5, 2, 0, 1, 1, 0, 0, 0] [1, 1, 9, 13, 3, 10, 5, 3, 0, 0, 5, 2, 0, 1, 2, 0, 0, 0]\n",
      "6 [1, 1, 9, 13, 3, 7, 2, 5, 1, 6, 7, 1, 2, 4, 1, 0, 0, 0] [1, 1, 9, 13, 3, 7, 2, 5, 1, 6, 7, 1, 2, 3, 1, 0, 0, 0]\n",
      "7 [1, 1, 9, 13, 3, 7, 2, 5, 1, 6, 7, 1, 2, 4, 1, 2, 1, 0] [1, 1, 9, 13, 3, 7, 2, 5, 1, 6, 7, 1, 2, 4, 1, 2, 1, 0]\n",
      "8 [1, 1, 9, 13, 3, 7, 5, 3, 0, 0, 5, 2, 0, 1, 1, 0, 0, 0] [1, 1, 9, 13, 3, 7, 5, 3, 0, 0, 5, 1, 0, 1, 1, 0, 0, 0]\n",
      "9 [1, 1, 9, 13, 5, 10, 5, 3, 0, 0, 5, 2, 0, 1, 1, 0, 0, 0] [1, 1, 9, 13, 5, 10, 5, 3, 1, 0, 5, 2, 0, 1, 1, 0, 0, 0]\n",
      "10 [1, 1, 9, 13, 3, 7, 2, 5, 1, 6, 7, 1, 2, 4, 1, 2, 0, 0] [1, 1, 9, 13, 3, 7, 2, 4, 1, 6, 7, 1, 2, 4, 1, 2, 0, 0]\n"
     ]
    }
   ],
   "source": [
    "#교차와 변이를 이용한 해 10개\n",
    "for i in range(0,10):\n",
    "    vec3=crossover(vec1,vec2)\n",
    "    vec4=mutate(vec3)\n",
    "    print(i+1,vec3,vec4)"
   ]
  },
  {
   "cell_type": "code",
   "execution_count": null,
   "metadata": {},
   "outputs": [],
   "source": []
  }
 ],
 "metadata": {
  "kernelspec": {
   "display_name": "Python 3.10.4 64-bit",
   "language": "python",
   "name": "python3"
  },
  "language_info": {
   "codemirror_mode": {
    "name": "ipython",
    "version": 3
   },
   "file_extension": ".py",
   "mimetype": "text/x-python",
   "name": "python",
   "nbconvert_exporter": "python",
   "pygments_lexer": "ipython3",
   "version": "3.10.4"
  },
  "orig_nbformat": 4,
  "vscode": {
   "interpreter": {
    "hash": "73d70afa6ea69e9144526a6a5401599dec7b759b7060f809f68e57a7e0099458"
   }
  }
 },
 "nbformat": 4,
 "nbformat_minor": 2
}
