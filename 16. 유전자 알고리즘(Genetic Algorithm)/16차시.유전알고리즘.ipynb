{
 "cells": [
  {
   "cell_type": "code",
   "execution_count": 1,
   "metadata": {},
   "outputs": [],
   "source": [
    "# -*- coding: utf-8 -*-\n",
    "#writer : Tomas \n",
    "\n",
    "import time\n",
    "import random\n",
    "import math\n",
    "import scipy.stats\n",
    "import numpy as np\n",
    "\n",
    "#구간과 도메인의 정의\n",
    "times = ['A','B','C','D','E','F']                     \n",
    "domain=[(0,(len(times)*3)-i-1) for i in range(0,len(times)*3)]\n",
    "\n",
    "#cost function설계를 위한 제약조건 정리\n",
    "prefs={\n",
    "       1 : ['B', 'C' , 'A'],\n",
    "       7 : ['E', 'F'],\n",
    "       11 : ['A', 'B'],\n",
    "       15 : ['E', 'D']\n",
    "       }\n",
    "       \n",
    "hates = {\n",
    "        13 : [1, 7], \n",
    "        10 : [11, 15],\n",
    "        3 : [8, 12, 10]\n",
    "        }\n",
    "\n",
    "man = [range(0,12)]\n",
    "woman = [range(12,18)]        \n",
    "\n",
    "#vec = [0,0,0,0,0,0,0,0,0,0,0,0,0,0,0,0,0,0]"
   ]
  },
  {
   "cell_type": "code",
   "execution_count": 2,
   "metadata": {},
   "outputs": [
    {
     "data": {
      "text/plain": [
       "[(0, 17),\n",
       " (0, 16),\n",
       " (0, 15),\n",
       " (0, 14),\n",
       " (0, 13),\n",
       " (0, 12),\n",
       " (0, 11),\n",
       " (0, 10),\n",
       " (0, 9),\n",
       " (0, 8),\n",
       " (0, 7),\n",
       " (0, 6),\n",
       " (0, 5),\n",
       " (0, 4),\n",
       " (0, 3),\n",
       " (0, 2),\n",
       " (0, 1),\n",
       " (0, 0)]"
      ]
     },
     "execution_count": 2,
     "metadata": {},
     "output_type": "execute_result"
    }
   ],
   "source": [
    "domain"
   ]
  },
  {
   "cell_type": "code",
   "execution_count": 3,
   "metadata": {
    "collapsed": false
   },
   "outputs": [],
   "source": [
    "def dormcost(vec):\n",
    "    \n",
    "    \n",
    "    #선호하는 시간대에 따라 점수부여 \n",
    "    \n",
    "    #싫어하는 사람에 따라 점수부여 \n",
    "    \n",
    "    #각 시간대에 적어도 1명은 남자\n",
    "    \n",
    "    #C시간대에 여자가 있으면 안됨 \n",
    "    \n",
    "    #solution이 좋으면 cost가 낮고, 나쁘면 cost가 높다. so, cost가 낮은것을 골라야함.\n",
    "    cost=0\n",
    "  \n",
    "    # Create list a of slots\n",
    "    slots=[]\n",
    "    for i in range(len(times)): slots+=[i,i,i]\n",
    "  \n",
    "    #해 vec에 따른 시간대 설정\n",
    "    times_band = printsolution(vec)\n",
    "  \n",
    "    #선호하는 시간대에 따라 점수부여 \n",
    "    for i in prefs.keys():\n",
    "        time=times_band[i]\n",
    "        pref=prefs[i]\n",
    "      \n",
    "        satisfy = False\n",
    "        for j in range(len(pref)):           \n",
    "            if pref[j]==time: \n",
    "                cost+=(j*2)\n",
    "                satisfy = True\n",
    "        if satisfy == False:\n",
    "            cost+=(j*2+3)\n",
    "          \n",
    "    #싫어하는 사람에 따라 점수부여 \n",
    "    for i in hates.keys():\n",
    "        time=times_band[i]\n",
    "        ha=hates[i]\n",
    "      \n",
    "        for j in range(len(ha)):\n",
    "            y = int(vec[ha[j]])\n",
    "            time_y=times[slots[y]]           \n",
    "            if time_y==time: \n",
    "                cost+=(7-j)\n",
    "              \n",
    "\n",
    "    #각 방에 적어도 1명은 남자  \n",
    "    idx = 0 \n",
    "    time_dic = {'A':0 , 'B':0 , 'C':0 , 'D':0 , 'E':0 , 'F':0} \n",
    "  \n",
    "    for t in times_band:\n",
    "        idx += 1\n",
    "        if idx >=0 and idx <= 11:\n",
    "            if t == 'A': time_dic['A'] += 1\n",
    "            elif t == 'B': time_dic['B'] += 1\n",
    "            elif t == 'C': time_dic['C'] += 1\n",
    "            elif t == 'D': time_dic['D'] += 1\n",
    "            elif t == 'E': time_dic['E'] += 1\n",
    "            elif t == 'F': time_dic['F'] += 1\n",
    "  \n",
    "    #페널티를 2점씩 부과해준다.         \n",
    "    cost += sum(np.matrix(time_dic.values()) == 0) * 2\n",
    "       \n",
    "    #C시간대에 여자가 있으면 안됨 \n",
    "    idx = 0 \n",
    "    time_dic = {'A':0 , 'B':0 , 'C':0 , 'D':0 , 'E':0 , 'F':0} \n",
    "      \n",
    "    for t in times_band:\n",
    "        idx += 1\n",
    "        if idx >=12:\n",
    "            if t == 'C': time_dic['C'] += 1\n",
    "          \n",
    "    if time_dic['C']>0 : cost+=10 #페널티 10점 부과\n",
    "  \n",
    "    return cost\n"
   ]
  },
  {
   "cell_type": "code",
   "execution_count": 4,
   "metadata": {},
   "outputs": [
    {
     "data": {
      "text/plain": [
       "[0, 0, 0, 1, 1, 1, 2, 2, 2, 3, 3, 3, 4, 4, 4, 5, 5, 5]"
      ]
     },
     "execution_count": 4,
     "metadata": {},
     "output_type": "execute_result"
    }
   ],
   "source": [
    "#TEST\n",
    "slots=[]\n",
    "for i in range(len(times)):slots+=[i,i,i]\n",
    "slots"
   ]
  },
  {
   "cell_type": "code",
   "execution_count": 5,
   "metadata": {},
   "outputs": [],
   "source": [
    "def printsolution(vec):\n",
    "    slots = []\n",
    "    times_band = []\n",
    "  \n",
    "    # 슬롯초기화\n",
    "    for i in range(len(times)): slots+=[i,i,i]\n",
    "\n",
    "    # 루프를 돌면서 전직원들의 시간배정\n",
    "    for i in range(len(vec)):\n",
    "        x=int(vec[i])\n",
    "\n",
    "        # 직원의 시간대를 정한다. \n",
    "        time=times[slots[x]]\n",
    "\n",
    "        #시간대를 추가함. \n",
    "        times_band.append(time)\n",
    "\n",
    "        # 해당하는 슬롯삭제(이미 배정되었으므로)\n",
    "        del slots[x]\n",
    "    \n",
    "    return times_band"
   ]
  },
  {
   "cell_type": "code",
   "execution_count": 6,
   "metadata": {},
   "outputs": [],
   "source": [
    "def geneticoptimize(domain,costf=dormcost,popsize=200,step=1,\n",
    "                    mutprob=0.5,elite=0.4,maxiter=20):\n",
    "    \n",
    "    # 변이\n",
    "    def mutate(vec):\n",
    "        i=random.randint(0,len(domain)-1)\n",
    "        if random.random()<0.5 and vec[i]-step>domain[i][0]:\n",
    "            return vec[0:i]+[vec[i]-step]+vec[i+1:] \n",
    "        elif vec[i]+step<domain[i][1]:\n",
    "            return vec[0:i]+[vec[i]+step]+vec[i+1:]\n",
    "        else:\n",
    "            return vec\n",
    "      \n",
    "    # 교차연산\n",
    "    def crossover(r1,r2):\n",
    "        i=random.randint(1,len(domain)-1)\n",
    "        return r1[0:i]+r2[i:]\n",
    "\n",
    "    # 초기의 random 해 설정\n",
    "    pop=[]\n",
    "    for i in range(popsize):\n",
    "        vec=[random.randint(domain[i][0],domain[i][1]) \n",
    "            for i in range(len(domain))]\n",
    "        pop.append(vec)\n",
    "  \n",
    "    # 엘리트해의 개수의 설정\n",
    "    topelite=int(elite*popsize)\n",
    "  \n",
    "  \n",
    "    # 메인루프\n",
    "    for i in range(maxiter):\n",
    "        scores=[(costf(v),v) for v in pop]\n",
    "        scores.sort()\n",
    "        ranked=[v for (s,v) in scores]\n",
    "\n",
    "        # 엘리트해의 추출\n",
    "        pop=ranked[0:topelite]\n",
    "\n",
    "        # 변이와 교차의 반복. popsize만큼. \n",
    "        while len(pop)<popsize:\n",
    "            if random.random()<mutprob:\n",
    "\n",
    "                # 변이\n",
    "                c=random.randint(0,topelite)\n",
    "                pop.append(mutate(ranked[c]))\n",
    "            else:\n",
    "\n",
    "                # 교차(싱글)\n",
    "                c1=random.randint(0,topelite)\n",
    "                c2=random.randint(0,topelite)\n",
    "                pop.append(crossover(ranked[c1],ranked[c2]))\n",
    "\n",
    "        # 현재까지의 최적해 출력\n",
    "        print (i,scores[0][0],'--->',scores[0][1] , '==>' , printsolution(scores[0][1]))\n",
    "    \n",
    "    return scores[0][1]"
   ]
  },
  {
   "cell_type": "code",
   "execution_count": 7,
   "metadata": {
    "collapsed": false
   },
   "outputs": [
    {
     "name": "stdout",
     "output_type": "stream",
     "text": [
      "0 [[9]] ---> [3, 6, 8, 13, 4, 5, 2, 8, 0, 5, 2, 3, 0, 0, 1, 0, 1, 0] ==> ['B', 'C', 'D', 'F', 'B', 'C', 'A', 'E', 'A', 'E', 'C', 'D', 'A', 'B', 'E', 'D', 'F', 'F']\n",
      "1 [[4]] ---> [6, 7, 10, 6, 6, 11, 2, 7, 1, 2, 5, 0, 0, 4, 3, 1, 0, 0] ==> ['C', 'C', 'E', 'C', 'D', 'F', 'A', 'E', 'A', 'B', 'E', 'A', 'B', 'F', 'F', 'D', 'B', 'D']\n",
      "2 [[4]] ---> [6, 7, 10, 6, 6, 11, 2, 7, 1, 2, 5, 0, 0, 4, 3, 1, 0, 0] ==> ['C', 'C', 'E', 'C', 'D', 'F', 'A', 'E', 'A', 'B', 'E', 'A', 'B', 'F', 'F', 'D', 'B', 'D']\n",
      "3 [[4]] ---> [6, 7, 10, 6, 6, 11, 2, 7, 1, 2, 5, 0, 0, 4, 3, 1, 0, 0] ==> ['C', 'C', 'E', 'C', 'D', 'F', 'A', 'E', 'A', 'B', 'E', 'A', 'B', 'F', 'F', 'D', 'B', 'D']\n",
      "4 [[4]] ---> [6, 4, 9, 5, 2, 0, 3, 9, 3, 5, 2, 1, 0, 1, 3, 1, 0, 0] ==> ['C', 'B', 'D', 'C', 'A', 'A', 'C', 'F', 'D', 'E', 'B', 'B', 'A', 'E', 'F', 'E', 'D', 'F']\n",
      "5 [[2]] ---> [8, 5, 5, 11, 5, 5, 5, 10, 8, 5, 3, 2, 1, 3, 3, 2, 0, 0] ==> ['C', 'B', 'C', 'E', 'C', 'D', 'D', 'F', 'F', 'D', 'B', 'A', 'A', 'E', 'F', 'E', 'A', 'B']\n",
      "6 [[2]] ---> [6, 7, 11, 6, 7, 6, 2, 7, 1, 2, 5, 0, 0, 3, 3, 2, 0, 0] ==> ['C', 'C', 'E', 'C', 'D', 'D', 'A', 'E', 'A', 'B', 'F', 'A', 'B', 'F', 'F', 'E', 'B', 'D']\n",
      "7 [[2]] ---> [6, 7, 11, 6, 7, 6, 2, 7, 1, 2, 5, 0, 0, 3, 3, 2, 0, 0] ==> ['C', 'C', 'E', 'C', 'D', 'D', 'A', 'E', 'A', 'B', 'F', 'A', 'B', 'F', 'F', 'E', 'B', 'D']\n",
      "8 [[2]] ---> [6, 4, 9, 11, 5, 5, 5, 10, 8, 5, 3, 2, 1, 3, 3, 2, 0, 0] ==> ['C', 'B', 'D', 'E', 'C', 'C', 'D', 'F', 'F', 'D', 'B', 'A', 'A', 'E', 'F', 'E', 'A', 'B']\n",
      "9 [[2]] ---> [6, 4, 9, 5, 2, 0, 3, 9, 1, 2, 5, 0, 0, 4, 0, 1, 0, 0] ==> ['C', 'B', 'D', 'C', 'A', 'A', 'C', 'F', 'B', 'D', 'E', 'A', 'B', 'F', 'D', 'E', 'E', 'F']\n",
      "10 [[2]] ---> [6, 3, 9, 5, 3, 0, 3, 10, 4, 2, 3, 1, 1, 3, 3, 2, 0, 0] ==> ['C', 'B', 'D', 'C', 'B', 'A', 'C', 'F', 'D', 'B', 'E', 'A', 'D', 'F', 'F', 'E', 'A', 'E']\n",
      "11 [[2]] ---> [6, 3, 9, 5, 3, 0, 3, 10, 4, 2, 3, 1, 0, 3, 3, 2, 0, 0] ==> ['C', 'B', 'D', 'C', 'B', 'A', 'C', 'F', 'D', 'B', 'E', 'A', 'A', 'F', 'F', 'E', 'D', 'E']\n",
      "12 [[0]] ---> [6, 4, 9, 5, 2, 0, 3, 7, 1, 2, 5, 0, 1, 4, 0, 1, 0, 0] ==> ['C', 'B', 'D', 'C', 'A', 'A', 'C', 'E', 'B', 'D', 'F', 'A', 'D', 'F', 'B', 'E', 'E', 'F']\n",
      "13 [[0]] ---> [6, 3, 14, 6, 6, 5, 3, 7, 1, 2, 5, 0, 0, 3, 3, 2, 0, 0] ==> ['C', 'B', 'F', 'C', 'D', 'C', 'B', 'E', 'A', 'B', 'E', 'A', 'A', 'F', 'F', 'E', 'D', 'D']\n",
      "14 [[0]] ---> [6, 3, 14, 6, 6, 5, 3, 7, 1, 1, 5, 0, 0, 3, 3, 2, 0, 0] ==> ['C', 'B', 'F', 'C', 'D', 'C', 'B', 'E', 'A', 'A', 'E', 'A', 'B', 'F', 'F', 'E', 'D', 'D']\n",
      "15 [[0]] ---> [6, 3, 9, 5, 2, 0, 3, 7, 1, 2, 5, 0, 0, 3, 3, 2, 0, 0] ==> ['C', 'B', 'D', 'C', 'A', 'A', 'C', 'E', 'B', 'D', 'F', 'A', 'B', 'F', 'F', 'E', 'D', 'E']\n",
      "16 [[0]] ---> [6, 3, 5, 11, 5, 5, 5, 7, 1, 2, 3, 1, 1, 3, 2, 1, 1, 0] ==> ['C', 'B', 'C', 'E', 'C', 'D', 'D', 'E', 'A', 'B', 'D', 'A', 'B', 'F', 'F', 'E', 'F', 'A']\n",
      "17 [[0]] ---> [6, 3, 5, 11, 5, 5, 3, 7, 1, 2, 5, 0, 0, 3, 3, 2, 0, 0] ==> ['C', 'B', 'C', 'E', 'C', 'D', 'B', 'E', 'A', 'B', 'F', 'A', 'A', 'F', 'F', 'E', 'D', 'D']\n",
      "18 [[0]] ---> [5, 3, 14, 6, 6, 5, 3, 7, 1, 2, 5, 0, 1, 4, 0, 1, 0, 0] ==> ['B', 'B', 'F', 'C', 'D', 'C', 'B', 'E', 'A', 'C', 'E', 'A', 'D', 'F', 'A', 'E', 'D', 'F']\n",
      "19 [[0]] ---> [5, 3, 9, 6, 6, 5, 3, 7, 1, 2, 5, 0, 0, 4, 3, 2, 0, 0] ==> ['B', 'B', 'D', 'C', 'D', 'C', 'B', 'E', 'A', 'C', 'F', 'A', 'A', 'F', 'F', 'E', 'D', 'E']\n"
     ]
    },
    {
     "data": {
      "text/plain": [
       "[5, 3, 9, 6, 6, 5, 3, 7, 1, 2, 5, 0, 0, 4, 3, 2, 0, 0]"
      ]
     },
     "execution_count": 7,
     "metadata": {},
     "output_type": "execute_result"
    }
   ],
   "source": [
    "geneticoptimize(domain) "
   ]
  }
 ],
 "metadata": {
  "anaconda-cloud": {},
  "kernelspec": {
   "display_name": "Python 3.10.4 64-bit",
   "language": "python",
   "name": "python3"
  },
  "language_info": {
   "codemirror_mode": {
    "name": "ipython",
    "version": 3
   },
   "file_extension": ".py",
   "mimetype": "text/x-python",
   "name": "python",
   "nbconvert_exporter": "python",
   "pygments_lexer": "ipython3",
   "version": "3.10.4"
  },
  "vscode": {
   "interpreter": {
    "hash": "73d70afa6ea69e9144526a6a5401599dec7b759b7060f809f68e57a7e0099458"
   }
  }
 },
 "nbformat": 4,
 "nbformat_minor": 1
}
