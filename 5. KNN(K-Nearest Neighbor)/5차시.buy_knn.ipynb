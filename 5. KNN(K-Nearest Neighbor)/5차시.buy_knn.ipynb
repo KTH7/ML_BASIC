{
 "cells": [
  {
   "cell_type": "code",
   "execution_count": 1,
   "metadata": {
    "ExecuteTime": {
     "end_time": "2022-10-15T09:13:44.996893Z",
     "start_time": "2022-10-15T09:13:41.060023Z"
    }
   },
   "outputs": [
    {
     "data": {
      "text/html": [
       "<div>\n",
       "<style scoped>\n",
       "    .dataframe tbody tr th:only-of-type {\n",
       "        vertical-align: middle;\n",
       "    }\n",
       "\n",
       "    .dataframe tbody tr th {\n",
       "        vertical-align: top;\n",
       "    }\n",
       "\n",
       "    .dataframe thead th {\n",
       "        text-align: right;\n",
       "    }\n",
       "</style>\n",
       "<table border=\"1\" class=\"dataframe\">\n",
       "  <thead>\n",
       "    <tr style=\"text-align: right;\">\n",
       "      <th></th>\n",
       "      <th>age</th>\n",
       "      <th>pay</th>\n",
       "      <th>buy_flag</th>\n",
       "    </tr>\n",
       "  </thead>\n",
       "  <tbody>\n",
       "    <tr>\n",
       "      <th>0</th>\n",
       "      <td>26</td>\n",
       "      <td>160</td>\n",
       "      <td>구매</td>\n",
       "    </tr>\n",
       "    <tr>\n",
       "      <th>1</th>\n",
       "      <td>35</td>\n",
       "      <td>210</td>\n",
       "      <td>비구매</td>\n",
       "    </tr>\n",
       "    <tr>\n",
       "      <th>2</th>\n",
       "      <td>26</td>\n",
       "      <td>220</td>\n",
       "      <td>비구매</td>\n",
       "    </tr>\n",
       "    <tr>\n",
       "      <th>3</th>\n",
       "      <td>29</td>\n",
       "      <td>260</td>\n",
       "      <td>구매</td>\n",
       "    </tr>\n",
       "    <tr>\n",
       "      <th>4</th>\n",
       "      <td>22</td>\n",
       "      <td>110</td>\n",
       "      <td>비구매</td>\n",
       "    </tr>\n",
       "  </tbody>\n",
       "</table>\n",
       "</div>"
      ],
      "text/plain": [
       "   age  pay buy_flag\n",
       "0   26  160       구매\n",
       "1   35  210      비구매\n",
       "2   26  220     비구매 \n",
       "3   29  260       구매\n",
       "4   22  110      비구매"
      ]
     },
     "execution_count": 1,
     "metadata": {},
     "output_type": "execute_result"
    }
   ],
   "source": [
    "import pandas as pd\n",
    "%matplotlib inline\n",
    "import matplotlib.pyplot as plt\n",
    "import numpy as np\n",
    "\n",
    "buy = pd.read_csv('buy.csv')\n",
    "buy.columns = ['age' , 'pay' , 'buy_flag']\n",
    "buy.head() \n"
   ]
  },
  {
   "cell_type": "code",
   "execution_count": 2,
   "metadata": {
    "ExecuteTime": {
     "end_time": "2022-10-15T09:13:45.012918Z",
     "start_time": "2022-10-15T09:13:45.001085Z"
    }
   },
   "outputs": [
    {
     "data": {
      "text/plain": [
       "array([1, 0, 0, 1, 0, 0, 1, 0, 0, 1, 1, 0, 0, 1, 1, 0, 0, 0, 1, 0])"
      ]
     },
     "execution_count": 2,
     "metadata": {},
     "output_type": "execute_result"
    }
   ],
   "source": [
    "buy_int = np.array([0] * len(buy))\n",
    "buy_int[buy.buy_flag == '구매'] = 1\n",
    "buy_int[buy.buy_flag == '비구매'] = 0\n",
    "buy_int"
   ]
  },
  {
   "cell_type": "code",
   "execution_count": 3,
   "metadata": {
    "ExecuteTime": {
     "end_time": "2022-10-15T09:13:45.028694Z",
     "start_time": "2022-10-15T09:13:45.016482Z"
    }
   },
   "outputs": [],
   "source": [
    "buy.buy_flag = buy_int\n",
    "test_buy = buy"
   ]
  },
  {
   "cell_type": "code",
   "execution_count": 4,
   "metadata": {
    "ExecuteTime": {
     "end_time": "2022-10-15T09:13:49.000743Z",
     "start_time": "2022-10-15T09:13:45.033536Z"
    }
   },
   "outputs": [],
   "source": [
    "from sklearn.preprocessing import StandardScaler  \n",
    "scaler = StandardScaler()  \n",
    "scaler.fit(buy)\n",
    "\n",
    "buy = scaler.transform(buy)"
   ]
  },
  {
   "cell_type": "code",
   "execution_count": 5,
   "metadata": {
    "ExecuteTime": {
     "end_time": "2022-10-15T09:13:49.016658Z",
     "start_time": "2022-10-15T09:13:49.003050Z"
    }
   },
   "outputs": [],
   "source": [
    "buy = pd.DataFrame(buy) "
   ]
  },
  {
   "cell_type": "code",
   "execution_count": 6,
   "metadata": {
    "ExecuteTime": {
     "end_time": "2022-10-15T09:13:49.031795Z",
     "start_time": "2022-10-15T09:13:49.019242Z"
    },
    "scrolled": true
   },
   "outputs": [
    {
     "data": {
      "text/html": [
       "<div>\n",
       "<style scoped>\n",
       "    .dataframe tbody tr th:only-of-type {\n",
       "        vertical-align: middle;\n",
       "    }\n",
       "\n",
       "    .dataframe tbody tr th {\n",
       "        vertical-align: top;\n",
       "    }\n",
       "\n",
       "    .dataframe thead th {\n",
       "        text-align: right;\n",
       "    }\n",
       "</style>\n",
       "<table border=\"1\" class=\"dataframe\">\n",
       "  <thead>\n",
       "    <tr style=\"text-align: right;\">\n",
       "      <th></th>\n",
       "      <th>age</th>\n",
       "      <th>pay</th>\n",
       "      <th>buy_flag</th>\n",
       "    </tr>\n",
       "  </thead>\n",
       "  <tbody>\n",
       "    <tr>\n",
       "      <th>0</th>\n",
       "      <td>26</td>\n",
       "      <td>160</td>\n",
       "      <td>1</td>\n",
       "    </tr>\n",
       "    <tr>\n",
       "      <th>1</th>\n",
       "      <td>35</td>\n",
       "      <td>210</td>\n",
       "      <td>0</td>\n",
       "    </tr>\n",
       "    <tr>\n",
       "      <th>2</th>\n",
       "      <td>26</td>\n",
       "      <td>220</td>\n",
       "      <td>0</td>\n",
       "    </tr>\n",
       "    <tr>\n",
       "      <th>3</th>\n",
       "      <td>29</td>\n",
       "      <td>260</td>\n",
       "      <td>1</td>\n",
       "    </tr>\n",
       "    <tr>\n",
       "      <th>4</th>\n",
       "      <td>22</td>\n",
       "      <td>110</td>\n",
       "      <td>0</td>\n",
       "    </tr>\n",
       "    <tr>\n",
       "      <th>5</th>\n",
       "      <td>32</td>\n",
       "      <td>210</td>\n",
       "      <td>0</td>\n",
       "    </tr>\n",
       "    <tr>\n",
       "      <th>6</th>\n",
       "      <td>37</td>\n",
       "      <td>310</td>\n",
       "      <td>1</td>\n",
       "    </tr>\n",
       "    <tr>\n",
       "      <th>7</th>\n",
       "      <td>21</td>\n",
       "      <td>110</td>\n",
       "      <td>0</td>\n",
       "    </tr>\n",
       "    <tr>\n",
       "      <th>8</th>\n",
       "      <td>28</td>\n",
       "      <td>210</td>\n",
       "      <td>0</td>\n",
       "    </tr>\n",
       "    <tr>\n",
       "      <th>9</th>\n",
       "      <td>31</td>\n",
       "      <td>260</td>\n",
       "      <td>1</td>\n",
       "    </tr>\n",
       "    <tr>\n",
       "      <th>10</th>\n",
       "      <td>36</td>\n",
       "      <td>390</td>\n",
       "      <td>1</td>\n",
       "    </tr>\n",
       "    <tr>\n",
       "      <th>11</th>\n",
       "      <td>23</td>\n",
       "      <td>110</td>\n",
       "      <td>0</td>\n",
       "    </tr>\n",
       "    <tr>\n",
       "      <th>12</th>\n",
       "      <td>32</td>\n",
       "      <td>340</td>\n",
       "      <td>0</td>\n",
       "    </tr>\n",
       "    <tr>\n",
       "      <th>13</th>\n",
       "      <td>29</td>\n",
       "      <td>170</td>\n",
       "      <td>1</td>\n",
       "    </tr>\n",
       "    <tr>\n",
       "      <th>14</th>\n",
       "      <td>37</td>\n",
       "      <td>340</td>\n",
       "      <td>1</td>\n",
       "    </tr>\n",
       "    <tr>\n",
       "      <th>15</th>\n",
       "      <td>31</td>\n",
       "      <td>240</td>\n",
       "      <td>0</td>\n",
       "    </tr>\n",
       "    <tr>\n",
       "      <th>16</th>\n",
       "      <td>27</td>\n",
       "      <td>230</td>\n",
       "      <td>0</td>\n",
       "    </tr>\n",
       "    <tr>\n",
       "      <th>17</th>\n",
       "      <td>23</td>\n",
       "      <td>210</td>\n",
       "      <td>0</td>\n",
       "    </tr>\n",
       "    <tr>\n",
       "      <th>18</th>\n",
       "      <td>40</td>\n",
       "      <td>440</td>\n",
       "      <td>1</td>\n",
       "    </tr>\n",
       "    <tr>\n",
       "      <th>19</th>\n",
       "      <td>27</td>\n",
       "      <td>140</td>\n",
       "      <td>0</td>\n",
       "    </tr>\n",
       "  </tbody>\n",
       "</table>\n",
       "</div>"
      ],
      "text/plain": [
       "    age  pay  buy_flag\n",
       "0    26  160         1\n",
       "1    35  210         0\n",
       "2    26  220         0\n",
       "3    29  260         1\n",
       "4    22  110         0\n",
       "5    32  210         0\n",
       "6    37  310         1\n",
       "7    21  110         0\n",
       "8    28  210         0\n",
       "9    31  260         1\n",
       "10   36  390         1\n",
       "11   23  110         0\n",
       "12   32  340         0\n",
       "13   29  170         1\n",
       "14   37  340         1\n",
       "15   31  240         0\n",
       "16   27  230         0\n",
       "17   23  210         0\n",
       "18   40  440         1\n",
       "19   27  140         0"
      ]
     },
     "execution_count": 6,
     "metadata": {},
     "output_type": "execute_result"
    }
   ],
   "source": [
    "buy.columns = ['age' , 'pay' , 'buy_flag']\n",
    "test_buy"
   ]
  },
  {
   "cell_type": "code",
   "execution_count": 7,
   "metadata": {
    "ExecuteTime": {
     "end_time": "2022-10-15T09:13:49.047465Z",
     "start_time": "2022-10-15T09:13:49.035674Z"
    }
   },
   "outputs": [],
   "source": [
    "X = buy.iloc[:, [1,2]].values  \n",
    "y = buy.iloc[:, 0].values  \n",
    "\n",
    "X_test = test_buy.iloc[:, [1,2]].values  \n",
    "y_test = test_buy.iloc[:, 0].values  \n"
   ]
  },
  {
   "cell_type": "code",
   "execution_count": 8,
   "metadata": {
    "ExecuteTime": {
     "end_time": "2022-10-15T09:13:49.062865Z",
     "start_time": "2022-10-15T09:13:49.051762Z"
    }
   },
   "outputs": [
    {
     "data": {
      "text/plain": [
       "(array([[160,   1],\n",
       "        [210,   0],\n",
       "        [220,   0],\n",
       "        [260,   1],\n",
       "        [110,   0],\n",
       "        [210,   0],\n",
       "        [310,   1],\n",
       "        [110,   0],\n",
       "        [210,   0],\n",
       "        [260,   1],\n",
       "        [390,   1],\n",
       "        [110,   0],\n",
       "        [340,   0],\n",
       "        [170,   1],\n",
       "        [340,   1],\n",
       "        [240,   0],\n",
       "        [230,   0],\n",
       "        [210,   0],\n",
       "        [440,   1],\n",
       "        [140,   0]], dtype=int64),\n",
       " array([26, 35, 26, 29, 22, 32, 37, 21, 28, 31, 36, 23, 32, 29, 37, 31, 27,\n",
       "        23, 40, 27], dtype=int64))"
      ]
     },
     "execution_count": 8,
     "metadata": {},
     "output_type": "execute_result"
    }
   ],
   "source": [
    "X_test , y_test"
   ]
  },
  {
   "cell_type": "code",
   "execution_count": 9,
   "metadata": {
    "ExecuteTime": {
     "end_time": "2022-10-15T09:13:49.778011Z",
     "start_time": "2022-10-15T09:13:49.065895Z"
    }
   },
   "outputs": [
    {
     "name": "stdout",
     "output_type": "stream",
     "text": [
      "결정계수 0.6857648725212465\n",
      "[27.8 28.8 29.6 28.8 23.8 28.8 33.2 23.8 28.8 28.8 36.4 23.8 34.2 29.8\n",
      " 34.2 28.8 29.4 28.8 36.4 23.8]\n",
      "[26 35 26 29 22 32 37 21 28 31 36 23 32 29 37 31 27 23 40 27]\n"
     ]
    }
   ],
   "source": [
    "from sklearn import neighbors\n",
    "\n",
    "model = neighbors.KNeighborsRegressor()\n",
    "model.fit(X_test, y_test)\n",
    "\n",
    "### 결정계수 표시\n",
    "r2 = model.score(X_test , y_test)\n",
    "print('결정계수', r2)\n",
    "\n",
    "result = model.predict(X_test)\n",
    "print(result) \n",
    "print(y_test) \n"
   ]
  },
  {
   "cell_type": "code",
   "execution_count": 10,
   "metadata": {
    "ExecuteTime": {
     "end_time": "2022-10-15T09:13:50.061168Z",
     "start_time": "2022-10-15T09:13:49.782177Z"
    }
   },
   "outputs": [
    {
     "data": {
      "image/png": "[encoded data removed]",
      "text/plain": [
       "<Figure size 640x480 with 1 Axes>"
      ]
     },
     "metadata": {},
     "output_type": "display_data"
    }
   ],
   "source": [
    "plt.scatter(test_buy.pay , y_test, marker='o' , c = 'blue')\n",
    "plt.scatter(test_buy.pay , result , marker='+' , c = 'red')\n",
    "plt.show()\n"
   ]
  }
 ],
 "metadata": {
  "hide_input": false,
  "kernelspec": {
   "display_name": "Python 3 (ipykernel)",
   "language": "python",
   "name": "python3"
  },
  "language_info": {
   "codemirror_mode": {
    "name": "ipython",
    "version": 3
   },
   "file_extension": ".py",
   "mimetype": "text/x-python",
   "name": "python",
   "nbconvert_exporter": "python",
   "pygments_lexer": "ipython3",
   "version": "3.10.4"
  },
  "toc": {
   "base_numbering": 1,
   "nav_menu": {},
   "number_sections": true,
   "sideBar": true,
   "skip_h1_title": false,
   "title_cell": "Table of Contents",
   "title_sidebar": "Contents",
   "toc_cell": false,
   "toc_position": {},
   "toc_section_display": true,
   "toc_window_display": false
  },
  "vscode": {
   "interpreter": {
    "hash": "0f7b383f56ffc874bb784249cfcc74f4882512b52ca255e018dd7cb9b981644c"
   }
  }
 },
 "nbformat": 4,
 "nbformat_minor": 1
}
