{
 "cells": [
  {
   "cell_type": "code",
   "execution_count": 1,
   "metadata": {
    "ExecuteTime": {
     "end_time": "2022-10-15T09:14:05.108191Z",
     "start_time": "2022-10-15T09:14:03.615668Z"
    }
   },
   "outputs": [
    {
     "data": {
      "text/html": [
       "<div>\n",
       "<style scoped>\n",
       "    .dataframe tbody tr th:only-of-type {\n",
       "        vertical-align: middle;\n",
       "    }\n",
       "\n",
       "    .dataframe tbody tr th {\n",
       "        vertical-align: top;\n",
       "    }\n",
       "\n",
       "    .dataframe thead th {\n",
       "        text-align: right;\n",
       "    }\n",
       "</style>\n",
       "<table border=\"1\" class=\"dataframe\">\n",
       "  <thead>\n",
       "    <tr style=\"text-align: right;\">\n",
       "      <th></th>\n",
       "      <th>talk</th>\n",
       "      <th>book</th>\n",
       "      <th>travel</th>\n",
       "      <th>school</th>\n",
       "      <th>tall</th>\n",
       "      <th>skin</th>\n",
       "      <th>muscle</th>\n",
       "      <th>like_level</th>\n",
       "    </tr>\n",
       "  </thead>\n",
       "  <tbody>\n",
       "    <tr>\n",
       "      <th>0</th>\n",
       "      <td>30</td>\n",
       "      <td>80</td>\n",
       "      <td>40</td>\n",
       "      <td>40</td>\n",
       "      <td>90</td>\n",
       "      <td>90</td>\n",
       "      <td>50</td>\n",
       "      <td>1타입</td>\n",
       "    </tr>\n",
       "    <tr>\n",
       "      <th>1</th>\n",
       "      <td>60</td>\n",
       "      <td>50</td>\n",
       "      <td>70</td>\n",
       "      <td>50</td>\n",
       "      <td>60</td>\n",
       "      <td>60</td>\n",
       "      <td>90</td>\n",
       "      <td>2타입</td>\n",
       "    </tr>\n",
       "    <tr>\n",
       "      <th>2</th>\n",
       "      <td>50</td>\n",
       "      <td>40</td>\n",
       "      <td>80</td>\n",
       "      <td>60</td>\n",
       "      <td>50</td>\n",
       "      <td>70</td>\n",
       "      <td>80</td>\n",
       "      <td>2타입</td>\n",
       "    </tr>\n",
       "    <tr>\n",
       "      <th>3</th>\n",
       "      <td>90</td>\n",
       "      <td>50</td>\n",
       "      <td>60</td>\n",
       "      <td>30</td>\n",
       "      <td>40</td>\n",
       "      <td>20</td>\n",
       "      <td>30</td>\n",
       "      <td>3타입</td>\n",
       "    </tr>\n",
       "    <tr>\n",
       "      <th>4</th>\n",
       "      <td>50</td>\n",
       "      <td>70</td>\n",
       "      <td>30</td>\n",
       "      <td>70</td>\n",
       "      <td>70</td>\n",
       "      <td>80</td>\n",
       "      <td>60</td>\n",
       "      <td>1타입</td>\n",
       "    </tr>\n",
       "  </tbody>\n",
       "</table>\n",
       "</div>"
      ],
      "text/plain": [
       "   talk  book  travel  school  tall  skin  muscle like_level\n",
       "0    30    80      40      40    90    90      50        1타입\n",
       "1    60    50      70      50    60    60      90        2타입\n",
       "2    50    40      80      60    50    70      80        2타입\n",
       "3    90    50      60      30    40    20      30        3타입\n",
       "4    50    70      30      70    70    80      60        1타입"
      ]
     },
     "execution_count": 1,
     "metadata": {},
     "output_type": "execute_result"
    }
   ],
   "source": [
    "import pandas as pd\n",
    "%matplotlib inline\n",
    "import matplotlib.pyplot as plt\n",
    "import numpy as np\n",
    "\n",
    "#데이터를 읽어오기\n",
    "like = pd.read_csv('like.csv')\n",
    "like.columns = ['talk' , 'book' , 'travel' , 'school' , 'tall' , 'skin' , 'muscle' , 'like_level']\n",
    "like.head() "
   ]
  },
  {
   "cell_type": "code",
   "execution_count": 2,
   "metadata": {
    "ExecuteTime": {
     "end_time": "2022-10-15T09:14:05.124122Z",
     "start_time": "2022-10-15T09:14:05.111540Z"
    }
   },
   "outputs": [
    {
     "name": "stdout",
     "output_type": "stream",
     "text": [
      "(14, 7)\n",
      "(14,)\n"
     ]
    }
   ],
   "source": [
    "#입력과 target데이터를 분리한다. \n",
    "x = np.array(like.drop('like_level', axis=1))\n",
    "print(x.shape)\n",
    "y = np.array(like.like_level)\n",
    "print(y.shape)"
   ]
  },
  {
   "cell_type": "code",
   "execution_count": 3,
   "metadata": {
    "ExecuteTime": {
     "end_time": "2022-10-15T09:14:05.139864Z",
     "start_time": "2022-10-15T09:14:05.126127Z"
    }
   },
   "outputs": [
    {
     "data": {
      "text/plain": [
       "((14,), (14, 7))"
      ]
     },
     "execution_count": 3,
     "metadata": {},
     "output_type": "execute_result"
    }
   ],
   "source": [
    "y.shape , x.shape"
   ]
  },
  {
   "cell_type": "code",
   "execution_count": 4,
   "metadata": {
    "ExecuteTime": {
     "end_time": "2022-10-15T09:14:06.122008Z",
     "start_time": "2022-10-15T09:14:05.143444Z"
    }
   },
   "outputs": [],
   "source": [
    "#데이터를 정규화한다. \n",
    "from sklearn.preprocessing import StandardScaler  \n",
    "scaler = StandardScaler()  \n",
    "scaler.fit(x)\n",
    "\n",
    "x = scaler.transform(x)"
   ]
  },
  {
   "cell_type": "code",
   "execution_count": 5,
   "metadata": {
    "ExecuteTime": {
     "end_time": "2022-10-15T09:14:06.137364Z",
     "start_time": "2022-10-15T09:14:06.127007Z"
    }
   },
   "outputs": [
    {
     "data": {
      "text/plain": [
       "array([[-1.26962211,  1.34164079, -0.8461218 , -0.98782916,  2.06644812,\n",
       "         1.29927838, -0.59160798],\n",
       "       [ 0.21160368, -0.36590203,  0.57536283, -0.3592106 ,  0.04805693,\n",
       "        -0.09994449,  1.77482393],\n",
       "       [-0.28213825, -0.93508297,  1.04919104,  0.26940795, -0.62474013,\n",
       "         0.36646313,  1.18321596],\n",
       "       [ 1.69282948, -0.36590203,  0.10153462, -1.61644772, -1.29753719,\n",
       "        -1.96557498, -1.77482393],\n",
       "       [-0.28213825,  0.77245985, -1.31995001,  0.89802651,  0.720854  ,\n",
       "         0.83287076,  0.        ],\n",
       "       [ 0.70534562, -1.50426391,  0.10153462, -0.98782916, -1.29753719,\n",
       "        -1.03275974, -1.77482393],\n",
       "       [-0.77588018,  1.91082173,  0.10153462,  0.26940795,  0.04805693,\n",
       "         0.83287076,  0.        ],\n",
       "       [-1.26962211,  0.20327891,  1.52301925,  0.26940795, -1.29753719,\n",
       "         0.36646313,  0.59160798],\n",
       "       [ 1.19908755, -0.93508297, -1.79377823,  1.52664507,  0.04805693,\n",
       "        -1.03275974, -0.59160798],\n",
       "       [-0.28213825,  0.77245985,  0.57536283, -0.3592106 ,  0.720854  ,\n",
       "         1.29927838, -0.59160798],\n",
       "       [ 1.19908755, -0.36590203,  0.10153462, -0.98782916, -0.62474013,\n",
       "        -1.03275974,  0.59160798],\n",
       "       [-1.26962211,  0.77245985, -1.31995001,  2.15526362,  0.720854  ,\n",
       "         0.83287076,  0.        ],\n",
       "       [-0.77588018,  0.20327891,  1.52301925,  0.26940795, -0.62474013,\n",
       "         0.36646313,  1.18321596],\n",
       "       [ 1.19908755, -1.50426391, -0.37229359, -0.3592106 ,  1.39365106,\n",
       "        -1.03275974,  0.        ]])"
      ]
     },
     "execution_count": 5,
     "metadata": {},
     "output_type": "execute_result"
    }
   ],
   "source": [
    "x"
   ]
  },
  {
   "cell_type": "code",
   "execution_count": 6,
   "metadata": {
    "ExecuteTime": {
     "end_time": "2022-10-15T09:14:06.339276Z",
     "start_time": "2022-10-15T09:14:06.141775Z"
    }
   },
   "outputs": [
    {
     "data": {
      "text/html": [
       "<style>#sk-container-id-1 {color: black;background-color: white;}#sk-container-id-1 pre{padding: 0;}#sk-container-id-1 div.sk-toggleable {background-color: white;}#sk-container-id-1 label.sk-toggleable__label {cursor: pointer;display: block;width: 100%;margin-bottom: 0;padding: 0.3em;box-sizing: border-box;text-align: center;}#sk-container-id-1 label.sk-toggleable__label-arrow:before {content: \"▸\";float: left;margin-right: 0.25em;color: #696969;}#sk-container-id-1 label.sk-toggleable__label-arrow:hover:before {color: black;}#sk-container-id-1 div.sk-estimator:hover label.sk-toggleable__label-arrow:before {color: black;}#sk-container-id-1 div.sk-toggleable__content {max-height: 0;max-width: 0;overflow: hidden;text-align: left;background-color: #f0f8ff;}#sk-container-id-1 div.sk-toggleable__content pre {margin: 0.2em;color: black;border-radius: 0.25em;background-color: #f0f8ff;}#sk-container-id-1 input.sk-toggleable__control:checked~div.sk-toggleable__content {max-height: 200px;max-width: 100%;overflow: auto;}#sk-container-id-1 input.sk-toggleable__control:checked~label.sk-toggleable__label-arrow:before {content: \"▾\";}#sk-container-id-1 div.sk-estimator input.sk-toggleable__control:checked~label.sk-toggleable__label {background-color: #d4ebff;}#sk-container-id-1 div.sk-label input.sk-toggleable__control:checked~label.sk-toggleable__label {background-color: #d4ebff;}#sk-container-id-1 input.sk-hidden--visually {border: 0;clip: rect(1px 1px 1px 1px);clip: rect(1px, 1px, 1px, 1px);height: 1px;margin: -1px;overflow: hidden;padding: 0;position: absolute;width: 1px;}#sk-container-id-1 div.sk-estimator {font-family: monospace;background-color: #f0f8ff;border: 1px dotted black;border-radius: 0.25em;box-sizing: border-box;margin-bottom: 0.5em;}#sk-container-id-1 div.sk-estimator:hover {background-color: #d4ebff;}#sk-container-id-1 div.sk-parallel-item::after {content: \"\";width: 100%;border-bottom: 1px solid gray;flex-grow: 1;}#sk-container-id-1 div.sk-label:hover label.sk-toggleable__label {background-color: #d4ebff;}#sk-container-id-1 div.sk-serial::before {content: \"\";position: absolute;border-left: 1px solid gray;box-sizing: border-box;top: 0;bottom: 0;left: 50%;z-index: 0;}#sk-container-id-1 div.sk-serial {display: flex;flex-direction: column;align-items: center;background-color: white;padding-right: 0.2em;padding-left: 0.2em;position: relative;}#sk-container-id-1 div.sk-item {position: relative;z-index: 1;}#sk-container-id-1 div.sk-parallel {display: flex;align-items: stretch;justify-content: center;background-color: white;position: relative;}#sk-container-id-1 div.sk-item::before, #sk-container-id-1 div.sk-parallel-item::before {content: \"\";position: absolute;border-left: 1px solid gray;box-sizing: border-box;top: 0;bottom: 0;left: 50%;z-index: -1;}#sk-container-id-1 div.sk-parallel-item {display: flex;flex-direction: column;z-index: 1;position: relative;background-color: white;}#sk-container-id-1 div.sk-parallel-item:first-child::after {align-self: flex-end;width: 50%;}#sk-container-id-1 div.sk-parallel-item:last-child::after {align-self: flex-start;width: 50%;}#sk-container-id-1 div.sk-parallel-item:only-child::after {width: 0;}#sk-container-id-1 div.sk-dashed-wrapped {border: 1px dashed gray;margin: 0 0.4em 0.5em 0.4em;box-sizing: border-box;padding-bottom: 0.4em;background-color: white;}#sk-container-id-1 div.sk-label label {font-family: monospace;font-weight: bold;display: inline-block;line-height: 1.2em;}#sk-container-id-1 div.sk-label-container {text-align: center;}#sk-container-id-1 div.sk-container {/* jupyter's `normalize.less` sets `[hidden] { display: none; }` but bootstrap.min.css set `[hidden] { display: none !important; }` so we also need the `!important` here to be able to override the default hidden behavior on the sphinx rendered scikit-learn.org. See: https://github.com/scikit-learn/scikit-learn/issues/21755 */display: inline-block !important;position: relative;}#sk-container-id-1 div.sk-text-repr-fallback {display: none;}</style><div id=\"sk-container-id-1\" class=\"sk-top-container\"><div class=\"sk-text-repr-fallback\"><pre>KNeighborsClassifier()</pre><b>In a Jupyter environment, please rerun this cell to show the HTML representation or trust the notebook. <br />On GitHub, the HTML representation is unable to render, please try loading this page with nbviewer.org.</b></div><div class=\"sk-container\" hidden><div class=\"sk-item\"><div class=\"sk-estimator sk-toggleable\"><input class=\"sk-toggleable__control sk-hidden--visually\" id=\"sk-estimator-id-1\" type=\"checkbox\" checked><label for=\"sk-estimator-id-1\" class=\"sk-toggleable__label sk-toggleable__label-arrow\">KNeighborsClassifier</label><div class=\"sk-toggleable__content\"><pre>KNeighborsClassifier()</pre></div></div></div></div></div>"
      ],
      "text/plain": [
       "KNeighborsClassifier()"
      ]
     },
     "execution_count": 6,
     "metadata": {},
     "output_type": "execute_result"
    }
   ],
   "source": [
    "#knn 분류기 모델을 만든다. \n",
    "from sklearn.neighbors import KNeighborsClassifier  \n",
    "classifier = KNeighborsClassifier(n_neighbors=5)  \n",
    "classifier.fit(x, y)  "
   ]
  },
  {
   "cell_type": "code",
   "execution_count": 7,
   "metadata": {
    "ExecuteTime": {
     "end_time": "2022-10-15T09:14:06.354696Z",
     "start_time": "2022-10-15T09:14:06.344625Z"
    }
   },
   "outputs": [
    {
     "data": {
      "text/plain": [
       "array(['1타입', '2타입', '2타입', '3타입', '1타입', '3타입', '1타입', '2타입', '3타입',\n",
       "       '1타입', '3타입', '1타입', '2타입', '3타입'], dtype=object)"
      ]
     },
     "execution_count": 7,
     "metadata": {},
     "output_type": "execute_result"
    }
   ],
   "source": [
    "#원래의 데이터를 넣어서 예측한다. \n",
    "y_pred = classifier.predict(x)  \n",
    "y_pred"
   ]
  },
  {
   "cell_type": "code",
   "execution_count": 8,
   "metadata": {
    "ExecuteTime": {
     "end_time": "2022-10-15T09:14:06.370168Z",
     "start_time": "2022-10-15T09:14:06.359907Z"
    }
   },
   "outputs": [
    {
     "data": {
      "text/plain": [
       "array(['1타입', '2타입', '2타입', '3타입', '1타입', '3타입', '1타입', '2타입', '3타입',\n",
       "       '1타입', '3타입', '1타입', '2타입', '3타입'], dtype=object)"
      ]
     },
     "execution_count": 8,
     "metadata": {},
     "output_type": "execute_result"
    }
   ],
   "source": [
    "y"
   ]
  },
  {
   "cell_type": "code",
   "execution_count": 9,
   "metadata": {
    "ExecuteTime": {
     "end_time": "2022-10-15T09:14:06.400922Z",
     "start_time": "2022-10-15T09:14:06.374173Z"
    }
   },
   "outputs": [
    {
     "name": "stdout",
     "output_type": "stream",
     "text": [
      "[[5 0 0]\n",
      " [0 4 0]\n",
      " [0 0 5]]\n",
      "              precision    recall  f1-score   support\n",
      "\n",
      "         1타입       1.00      1.00      1.00         5\n",
      "         2타입       1.00      1.00      1.00         4\n",
      "         3타입       1.00      1.00      1.00         5\n",
      "\n",
      "    accuracy                           1.00        14\n",
      "   macro avg       1.00      1.00      1.00        14\n",
      "weighted avg       1.00      1.00      1.00        14\n",
      "\n"
     ]
    }
   ],
   "source": [
    "#모델을 평가한다. \n",
    "from sklearn.metrics import classification_report, confusion_matrix  \n",
    "print(confusion_matrix(y, y_pred))  \n",
    "print(classification_report(y, y_pred))  "
   ]
  }
 ],
 "metadata": {
  "anaconda-cloud": {},
  "hide_input": false,
  "kernelspec": {
   "display_name": "Python 3 (ipykernel)",
   "language": "python",
   "name": "python3"
  },
  "language_info": {
   "codemirror_mode": {
    "name": "ipython",
    "version": 3
   },
   "file_extension": ".py",
   "mimetype": "text/x-python",
   "name": "python",
   "nbconvert_exporter": "python",
   "pygments_lexer": "ipython3",
   "version": "3.10.4"
  },
  "toc": {
   "base_numbering": 1,
   "nav_menu": {},
   "number_sections": true,
   "sideBar": true,
   "skip_h1_title": false,
   "title_cell": "Table of Contents",
   "title_sidebar": "Contents",
   "toc_cell": false,
   "toc_position": {},
   "toc_section_display": true,
   "toc_window_display": false
  },
  "vscode": {
   "interpreter": {
    "hash": "0f7b383f56ffc874bb784249cfcc74f4882512b52ca255e018dd7cb9b981644c"
   }
  }
 },
 "nbformat": 4,
 "nbformat_minor": 1
}
